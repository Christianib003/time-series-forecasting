{
 "cells": [
  {
   "cell_type": "markdown",
   "id": "915ec13b",
   "metadata": {},
   "source": [
    "# DATA ANALYSIS AND PREPROCESSING"
   ]
  },
  {
   "cell_type": "markdown",
   "id": "f123fbbb",
   "metadata": {},
   "source": [
    "## 1 Import Libraries"
   ]
  },
  {
   "cell_type": "code",
   "execution_count": null,
   "id": "ebe9d6c8",
   "metadata": {},
   "outputs": [],
   "source": [
    "import pandas as pd\n",
    "import numpy as np\n",
    "import matplotlib.pyplot as plt\n",
    "import seaborn as sns\n",
    "\n",
    "pd.set_option('display.max_columns', None)\n",
    "sns.set_style('whitegrid')"
   ]
  },
  {
   "cell_type": "markdown",
   "id": "eb4decdc",
   "metadata": {},
   "source": [
    "## 2. Load the Datasets"
   ]
  },
  {
   "cell_type": "code",
   "execution_count": 3,
   "id": "0c5b7cc5",
   "metadata": {},
   "outputs": [],
   "source": [
    "train_df = pd.read_csv('../data/train.csv')\n",
    "test_df = pd.read_csv('../data/test.csv')"
   ]
  },
  {
   "cell_type": "markdown",
   "id": "db916b3b",
   "metadata": {},
   "source": [
    "## 3. Data Inspection\n",
    "\n",
    "We are going to perform several basic checks to get a high-level understanding of the data's structure, data types, and potential issues like missing values.\n",
    "\n",
    "### 3.1 View the First Few Rows\n",
    "We'll preview the first five rows of the training data."
   ]
  },
  {
   "cell_type": "code",
   "execution_count": 4,
   "id": "dae102d0",
   "metadata": {},
   "outputs": [
    {
     "name": "stdout",
     "output_type": "stream",
     "text": [
      "Training Data Head:\n"
     ]
    },
    {
     "data": {
      "text/html": [
       "<div>\n",
       "<style scoped>\n",
       "    .dataframe tbody tr th:only-of-type {\n",
       "        vertical-align: middle;\n",
       "    }\n",
       "\n",
       "    .dataframe tbody tr th {\n",
       "        vertical-align: top;\n",
       "    }\n",
       "\n",
       "    .dataframe thead th {\n",
       "        text-align: right;\n",
       "    }\n",
       "</style>\n",
       "<table border=\"1\" class=\"dataframe\">\n",
       "  <thead>\n",
       "    <tr style=\"text-align: right;\">\n",
       "      <th></th>\n",
       "      <th>No</th>\n",
       "      <th>DEWP</th>\n",
       "      <th>TEMP</th>\n",
       "      <th>PRES</th>\n",
       "      <th>Iws</th>\n",
       "      <th>Is</th>\n",
       "      <th>Ir</th>\n",
       "      <th>datetime</th>\n",
       "      <th>cbwd_NW</th>\n",
       "      <th>cbwd_SE</th>\n",
       "      <th>cbwd_cv</th>\n",
       "      <th>pm2.5</th>\n",
       "    </tr>\n",
       "  </thead>\n",
       "  <tbody>\n",
       "    <tr>\n",
       "      <th>0</th>\n",
       "      <td>1</td>\n",
       "      <td>-1.580878</td>\n",
       "      <td>-1.922250</td>\n",
       "      <td>0.443328</td>\n",
       "      <td>-0.441894</td>\n",
       "      <td>-0.069353</td>\n",
       "      <td>-0.137667</td>\n",
       "      <td>2010-01-01 00:00:00</td>\n",
       "      <td>1.448138</td>\n",
       "      <td>-0.732019</td>\n",
       "      <td>-0.522096</td>\n",
       "      <td>NaN</td>\n",
       "    </tr>\n",
       "    <tr>\n",
       "      <th>1</th>\n",
       "      <td>2</td>\n",
       "      <td>-1.580878</td>\n",
       "      <td>-2.004228</td>\n",
       "      <td>0.345943</td>\n",
       "      <td>-0.379306</td>\n",
       "      <td>-0.069353</td>\n",
       "      <td>-0.137667</td>\n",
       "      <td>2010-01-01 01:00:00</td>\n",
       "      <td>1.448138</td>\n",
       "      <td>-0.732019</td>\n",
       "      <td>-0.522096</td>\n",
       "      <td>NaN</td>\n",
       "    </tr>\n",
       "    <tr>\n",
       "      <th>2</th>\n",
       "      <td>3</td>\n",
       "      <td>-1.580878</td>\n",
       "      <td>-1.922250</td>\n",
       "      <td>0.248559</td>\n",
       "      <td>-0.343514</td>\n",
       "      <td>-0.069353</td>\n",
       "      <td>-0.137667</td>\n",
       "      <td>2010-01-01 02:00:00</td>\n",
       "      <td>1.448138</td>\n",
       "      <td>-0.732019</td>\n",
       "      <td>-0.522096</td>\n",
       "      <td>NaN</td>\n",
       "    </tr>\n",
       "    <tr>\n",
       "      <th>3</th>\n",
       "      <td>4</td>\n",
       "      <td>-1.580878</td>\n",
       "      <td>-2.168183</td>\n",
       "      <td>0.248559</td>\n",
       "      <td>-0.280926</td>\n",
       "      <td>-0.069353</td>\n",
       "      <td>-0.137667</td>\n",
       "      <td>2010-01-01 03:00:00</td>\n",
       "      <td>1.448138</td>\n",
       "      <td>-0.732019</td>\n",
       "      <td>-0.522096</td>\n",
       "      <td>NaN</td>\n",
       "    </tr>\n",
       "    <tr>\n",
       "      <th>4</th>\n",
       "      <td>5</td>\n",
       "      <td>-1.511594</td>\n",
       "      <td>-2.004228</td>\n",
       "      <td>0.151174</td>\n",
       "      <td>-0.218339</td>\n",
       "      <td>-0.069353</td>\n",
       "      <td>-0.137667</td>\n",
       "      <td>2010-01-01 04:00:00</td>\n",
       "      <td>1.448138</td>\n",
       "      <td>-0.732019</td>\n",
       "      <td>-0.522096</td>\n",
       "      <td>NaN</td>\n",
       "    </tr>\n",
       "  </tbody>\n",
       "</table>\n",
       "</div>"
      ],
      "text/plain": [
       "   No      DEWP      TEMP      PRES       Iws        Is        Ir  \\\n",
       "0   1 -1.580878 -1.922250  0.443328 -0.441894 -0.069353 -0.137667   \n",
       "1   2 -1.580878 -2.004228  0.345943 -0.379306 -0.069353 -0.137667   \n",
       "2   3 -1.580878 -1.922250  0.248559 -0.343514 -0.069353 -0.137667   \n",
       "3   4 -1.580878 -2.168183  0.248559 -0.280926 -0.069353 -0.137667   \n",
       "4   5 -1.511594 -2.004228  0.151174 -0.218339 -0.069353 -0.137667   \n",
       "\n",
       "              datetime   cbwd_NW   cbwd_SE   cbwd_cv  pm2.5  \n",
       "0  2010-01-01 00:00:00  1.448138 -0.732019 -0.522096    NaN  \n",
       "1  2010-01-01 01:00:00  1.448138 -0.732019 -0.522096    NaN  \n",
       "2  2010-01-01 02:00:00  1.448138 -0.732019 -0.522096    NaN  \n",
       "3  2010-01-01 03:00:00  1.448138 -0.732019 -0.522096    NaN  \n",
       "4  2010-01-01 04:00:00  1.448138 -0.732019 -0.522096    NaN  "
      ]
     },
     "metadata": {},
     "output_type": "display_data"
    }
   ],
   "source": [
    "print(\"Training Data Head:\")\n",
    "display(train_df.head())"
   ]
  },
  {
   "cell_type": "markdown",
   "id": "8f20b6c2",
   "metadata": {},
   "source": [
    "**Observation:** The output shows a mix of numerical features (like `DEWP`, `TEMP`), categorical features that have been one-hot encoded (like `cbwd_NW`), and the target variable, `pm2.5`. We can immediately see `NaN` (Not a Number) values in the `pm2.5` column for the first few entries."
   ]
  },
  {
   "cell_type": "markdown",
   "id": "63dfa5e1",
   "metadata": {},
   "source": [
    "### 3.2Handle Datetime Column\n",
    "A critical step we have to make in this time series analysis is to ensure the time column is in the correct `datetime` format and set as the index. This will enable powerful time-based slicing, plotting, and analysis.\n"
   ]
  },
  {
   "cell_type": "code",
   "execution_count": 5,
   "id": "365dce0b",
   "metadata": {},
   "outputs": [
    {
     "name": "stdout",
     "output_type": "stream",
     "text": [
      "\n",
      "Data types after setting datetime index:\n",
      "<class 'pandas.core.frame.DataFrame'>\n",
      "DatetimeIndex: 30676 entries, 2010-01-01 00:00:00 to 2013-07-02 03:00:00\n",
      "Data columns (total 11 columns):\n",
      " #   Column   Non-Null Count  Dtype  \n",
      "---  ------   --------------  -----  \n",
      " 0   No       30676 non-null  int64  \n",
      " 1   DEWP     30676 non-null  float64\n",
      " 2   TEMP     30676 non-null  float64\n",
      " 3   PRES     30676 non-null  float64\n",
      " 4   Iws      30676 non-null  float64\n",
      " 5   Is       30676 non-null  float64\n",
      " 6   Ir       30676 non-null  float64\n",
      " 7   cbwd_NW  30676 non-null  float64\n",
      " 8   cbwd_SE  30676 non-null  float64\n",
      " 9   cbwd_cv  30676 non-null  float64\n",
      " 10  pm2.5    28755 non-null  float64\n",
      "dtypes: float64(10), int64(1)\n",
      "memory usage: 2.8 MB\n"
     ]
    }
   ],
   "source": [
    "# Convert the 'datetime' column in both dataframes\n",
    "train_df['datetime'] = pd.to_datetime(train_df['datetime'])\n",
    "test_df['datetime'] = pd.to_datetime(test_df['datetime'])\n",
    "\n",
    "# Set datetime as the index\n",
    "train_df.set_index('datetime', inplace=True)\n",
    "test_df.set_index('datetime', inplace=True)\n",
    "\n",
    "print(\"\\nData types after setting datetime index:\")\n",
    "train_df.info()"
   ]
  },
  {
   "cell_type": "markdown",
   "id": "aab6d285",
   "metadata": {},
   "source": [
    "**Observation:** This confirms the changes. The index is now a `DatetimeIndex`, and the `datetime` column has been removed from the list of columns. The data is now properly formatted as a time series."
   ]
  }
 ],
 "metadata": {
  "kernelspec": {
   "display_name": ".venv",
   "language": "python",
   "name": "python3"
  },
  "language_info": {
   "codemirror_mode": {
    "name": "ipython",
    "version": 3
   },
   "file_extension": ".py",
   "mimetype": "text/x-python",
   "name": "python",
   "nbconvert_exporter": "python",
   "pygments_lexer": "ipython3",
   "version": "3.13.5"
  }
 },
 "nbformat": 4,
 "nbformat_minor": 5
}
