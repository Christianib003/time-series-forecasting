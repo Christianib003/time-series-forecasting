{
 "cells": [
  {
   "cell_type": "markdown",
   "id": "86d5b939",
   "metadata": {},
   "source": [
    "1. DATA EXPLORATION AND ANALYSIS\n",
    "\n"
   ]
  },
  {
   "cell_type": "markdown",
   "id": "99064474",
   "metadata": {},
   "source": [
    "## 2. Imports, Paths, Seed (plan)\n",
    "\n",
    "**Note:** Make sure to activate the virtual environment before running this notebook:\n",
    "```bash\n",
    "source ../.venv/bin/activate\n",
    "```\n",
    "\n"
   ]
  },
  {
   "cell_type": "code",
   "execution_count": 28,
   "id": "881a5d66",
   "metadata": {},
   "outputs": [
    {
     "name": "stdout",
     "output_type": "stream",
     "text": [
      "Wrote experiments/features.json\n",
      "fold1: TRAIN 2010-01-02 00:00:00 → 2013-06-03 02:00:00 | VAL 2013-06-03 03:00:00 → 2013-07-02 03:00:00\n",
      "fold2: TRAIN 2010-01-02 00:00:00 → 2013-05-04 02:00:00 | VAL 2013-05-04 03:00:00 → 2013-06-02 03:00:00\n",
      "fold3: TRAIN 2010-01-02 00:00:00 → 2013-04-04 02:00:00 | VAL 2013-04-04 03:00:00 → 2013-05-03 03:00:00\n"
     ]
    }
   ],
   "source": [
    "# Bootstrap imports from the project root so `from src...` works\n",
    "import sys\n",
    "from pathlib import Path\n",
    "import importlib\n",
    "import numpy as np\n",
    "\n",
    "# Detect project ROOT (assumes notebooks are in <ROOT>/notebooks/)\n",
    "# If we're in notebooks/, go up one level. Otherwise, we're already at ROOT.\n",
    "ROOT = Path.cwd().parent if Path.cwd().name == \"notebooks\" else Path.cwd()\n",
    "\n",
    "# Put ROOT (the directory that CONTAINS 'src') on sys.path\n",
    "if str(ROOT) not in sys.path:\n",
    "    sys.path.insert(0, str(ROOT))\n",
    "\n",
    "# Clear any stale import caches\n",
    "importlib.invalidate_caches()\n",
    "\n",
    "import pandas as pd\n",
    "from src.config import DATA_RAW, FIGURES_DIR, OUTPUTS, DATA_INTERIM\n",
    "from src.utils import seed_all, get_logger\n",
    "from src.data_loading import load_raw\n",
    "from src.detect import detect_columns\n",
    "from src.validate import parse_sort_assert, boundary_check, save_continuity_hist, snapshot\n",
    "from src.eda import profile_missingness\n",
    "from src.policies import count_missing_target, dry_run_feature_fill\n",
    "from src.plots import hist_target, box_target, seasonal_mean\n",
    "from src.seasonality import add_time_parts\n",
    "from src.relations import candidate_exogenous, numeric_columns, corr_with_target, corr_matrix, scatter_xy, hexbin_xy\n",
    "from src.temporal import plot_autocorr, seasonal_lag_strength, plot_pacf_optional\n",
    "from src.preprocess_pipeline import build_interim\n",
    "import json, pathlib\n",
    "\n",
    "feat_path = pathlib.Path(\"experiments/features.json\")\n",
    "feat_path.parent.mkdir(parents=True, exist_ok=True)\n",
    "json.dump(feature_cols, open(feat_path, \"w\"), indent=2)\n",
    "print(\"Wrote\", feat_path)\n",
    "\n",
    "\n",
    "\n",
    "interim = pd.read_csv(DATA_INTERIM / \"clean.csv\", parse_dates=[\"datetime\"])\n",
    "\n",
    "from src.cv import make_blocked_folds, mask_for_range\n",
    "folds = make_blocked_folds(interim.query(\"split=='train'\"), \"datetime\", n_folds=3, val_days=30)\n",
    "for f in folds:\n",
    "    print(f\"{f.name}: TRAIN {f.train_start} → {f.train_end} | VAL {f.val_start} → {f.val_end}\")\n",
    "\n",
    "# Set up logger\n",
    "log = get_logger(\"eda\")\n",
    "\n",
    "\n"
   ]
  },
  {
   "cell_type": "code",
   "execution_count": 2,
   "id": "6dd9fc37",
   "metadata": {},
   "outputs": [
    {
     "name": "stdout",
     "output_type": "stream",
     "text": [
      "Shapes: (30676, 12) (13148, 11) (13148, 2)\n"
     ]
    },
    {
     "data": {
      "text/html": [
       "<div>\n",
       "<style scoped>\n",
       "    .dataframe tbody tr th:only-of-type {\n",
       "        vertical-align: middle;\n",
       "    }\n",
       "\n",
       "    .dataframe tbody tr th {\n",
       "        vertical-align: top;\n",
       "    }\n",
       "\n",
       "    .dataframe thead th {\n",
       "        text-align: right;\n",
       "    }\n",
       "</style>\n",
       "<table border=\"1\" class=\"dataframe\">\n",
       "  <thead>\n",
       "    <tr style=\"text-align: right;\">\n",
       "      <th></th>\n",
       "      <th>No</th>\n",
       "      <th>DEWP</th>\n",
       "      <th>TEMP</th>\n",
       "      <th>PRES</th>\n",
       "      <th>Iws</th>\n",
       "      <th>Is</th>\n",
       "      <th>Ir</th>\n",
       "      <th>datetime</th>\n",
       "      <th>cbwd_NW</th>\n",
       "      <th>cbwd_SE</th>\n",
       "      <th>cbwd_cv</th>\n",
       "      <th>pm2.5</th>\n",
       "    </tr>\n",
       "  </thead>\n",
       "  <tbody>\n",
       "    <tr>\n",
       "      <th>0</th>\n",
       "      <td>1</td>\n",
       "      <td>-1.580878</td>\n",
       "      <td>-1.922250</td>\n",
       "      <td>0.443328</td>\n",
       "      <td>-0.441894</td>\n",
       "      <td>-0.069353</td>\n",
       "      <td>-0.137667</td>\n",
       "      <td>2010-01-01 00:00:00</td>\n",
       "      <td>1.448138</td>\n",
       "      <td>-0.732019</td>\n",
       "      <td>-0.522096</td>\n",
       "      <td>NaN</td>\n",
       "    </tr>\n",
       "    <tr>\n",
       "      <th>1</th>\n",
       "      <td>2</td>\n",
       "      <td>-1.580878</td>\n",
       "      <td>-2.004228</td>\n",
       "      <td>0.345943</td>\n",
       "      <td>-0.379306</td>\n",
       "      <td>-0.069353</td>\n",
       "      <td>-0.137667</td>\n",
       "      <td>2010-01-01 01:00:00</td>\n",
       "      <td>1.448138</td>\n",
       "      <td>-0.732019</td>\n",
       "      <td>-0.522096</td>\n",
       "      <td>NaN</td>\n",
       "    </tr>\n",
       "    <tr>\n",
       "      <th>2</th>\n",
       "      <td>3</td>\n",
       "      <td>-1.580878</td>\n",
       "      <td>-1.922250</td>\n",
       "      <td>0.248559</td>\n",
       "      <td>-0.343514</td>\n",
       "      <td>-0.069353</td>\n",
       "      <td>-0.137667</td>\n",
       "      <td>2010-01-01 02:00:00</td>\n",
       "      <td>1.448138</td>\n",
       "      <td>-0.732019</td>\n",
       "      <td>-0.522096</td>\n",
       "      <td>NaN</td>\n",
       "    </tr>\n",
       "  </tbody>\n",
       "</table>\n",
       "</div>"
      ],
      "text/plain": [
       "   No      DEWP      TEMP      PRES       Iws        Is        Ir  \\\n",
       "0   1 -1.580878 -1.922250  0.443328 -0.441894 -0.069353 -0.137667   \n",
       "1   2 -1.580878 -2.004228  0.345943 -0.379306 -0.069353 -0.137667   \n",
       "2   3 -1.580878 -1.922250  0.248559 -0.343514 -0.069353 -0.137667   \n",
       "\n",
       "              datetime   cbwd_NW   cbwd_SE   cbwd_cv  pm2.5  \n",
       "0  2010-01-01 00:00:00  1.448138 -0.732019 -0.522096    NaN  \n",
       "1  2010-01-01 01:00:00  1.448138 -0.732019 -0.522096    NaN  \n",
       "2  2010-01-01 02:00:00  1.448138 -0.732019 -0.522096    NaN  "
      ]
     },
     "metadata": {},
     "output_type": "display_data"
    },
    {
     "data": {
      "text/html": [
       "<div>\n",
       "<style scoped>\n",
       "    .dataframe tbody tr th:only-of-type {\n",
       "        vertical-align: middle;\n",
       "    }\n",
       "\n",
       "    .dataframe tbody tr th {\n",
       "        vertical-align: top;\n",
       "    }\n",
       "\n",
       "    .dataframe thead th {\n",
       "        text-align: right;\n",
       "    }\n",
       "</style>\n",
       "<table border=\"1\" class=\"dataframe\">\n",
       "  <thead>\n",
       "    <tr style=\"text-align: right;\">\n",
       "      <th></th>\n",
       "      <th>No</th>\n",
       "      <th>DEWP</th>\n",
       "      <th>TEMP</th>\n",
       "      <th>PRES</th>\n",
       "      <th>Iws</th>\n",
       "      <th>Is</th>\n",
       "      <th>Ir</th>\n",
       "      <th>datetime</th>\n",
       "      <th>cbwd_NW</th>\n",
       "      <th>cbwd_SE</th>\n",
       "      <th>cbwd_cv</th>\n",
       "    </tr>\n",
       "  </thead>\n",
       "  <tbody>\n",
       "    <tr>\n",
       "      <th>0</th>\n",
       "      <td>30677</td>\n",
       "      <td>1.190496</td>\n",
       "      <td>0.701029</td>\n",
       "      <td>-2.186052</td>\n",
       "      <td>-0.003982</td>\n",
       "      <td>-0.069353</td>\n",
       "      <td>-0.137667</td>\n",
       "      <td>2013-07-02 04:00:00</td>\n",
       "      <td>1.448138</td>\n",
       "      <td>-0.732019</td>\n",
       "      <td>-0.522096</td>\n",
       "    </tr>\n",
       "    <tr>\n",
       "      <th>1</th>\n",
       "      <td>30678</td>\n",
       "      <td>1.121211</td>\n",
       "      <td>0.619051</td>\n",
       "      <td>-2.186052</td>\n",
       "      <td>0.031811</td>\n",
       "      <td>-0.069353</td>\n",
       "      <td>-0.137667</td>\n",
       "      <td>2013-07-02 05:00:00</td>\n",
       "      <td>1.448138</td>\n",
       "      <td>-0.732019</td>\n",
       "      <td>-0.522096</td>\n",
       "    </tr>\n",
       "    <tr>\n",
       "      <th>2</th>\n",
       "      <td>30679</td>\n",
       "      <td>1.190496</td>\n",
       "      <td>0.783006</td>\n",
       "      <td>-2.186052</td>\n",
       "      <td>0.094398</td>\n",
       "      <td>-0.069353</td>\n",
       "      <td>-0.137667</td>\n",
       "      <td>2013-07-02 06:00:00</td>\n",
       "      <td>1.448138</td>\n",
       "      <td>-0.732019</td>\n",
       "      <td>-0.522096</td>\n",
       "    </tr>\n",
       "  </tbody>\n",
       "</table>\n",
       "</div>"
      ],
      "text/plain": [
       "      No      DEWP      TEMP      PRES       Iws        Is        Ir  \\\n",
       "0  30677  1.190496  0.701029 -2.186052 -0.003982 -0.069353 -0.137667   \n",
       "1  30678  1.121211  0.619051 -2.186052  0.031811 -0.069353 -0.137667   \n",
       "2  30679  1.190496  0.783006 -2.186052  0.094398 -0.069353 -0.137667   \n",
       "\n",
       "              datetime   cbwd_NW   cbwd_SE   cbwd_cv  \n",
       "0  2013-07-02 04:00:00  1.448138 -0.732019 -0.522096  \n",
       "1  2013-07-02 05:00:00  1.448138 -0.732019 -0.522096  \n",
       "2  2013-07-02 06:00:00  1.448138 -0.732019 -0.522096  "
      ]
     },
     "metadata": {},
     "output_type": "display_data"
    },
    {
     "data": {
      "text/html": [
       "<div>\n",
       "<style scoped>\n",
       "    .dataframe tbody tr th:only-of-type {\n",
       "        vertical-align: middle;\n",
       "    }\n",
       "\n",
       "    .dataframe tbody tr th {\n",
       "        vertical-align: top;\n",
       "    }\n",
       "\n",
       "    .dataframe thead th {\n",
       "        text-align: right;\n",
       "    }\n",
       "</style>\n",
       "<table border=\"1\" class=\"dataframe\">\n",
       "  <thead>\n",
       "    <tr style=\"text-align: right;\">\n",
       "      <th></th>\n",
       "      <th>row ID</th>\n",
       "      <th>pm2.5</th>\n",
       "    </tr>\n",
       "  </thead>\n",
       "  <tbody>\n",
       "    <tr>\n",
       "      <th>0</th>\n",
       "      <td>2013-07-02 4:00:00</td>\n",
       "      <td>14</td>\n",
       "    </tr>\n",
       "    <tr>\n",
       "      <th>1</th>\n",
       "      <td>2013-07-02 5:00:00</td>\n",
       "      <td>14</td>\n",
       "    </tr>\n",
       "    <tr>\n",
       "      <th>2</th>\n",
       "      <td>2013-07-02 6:00:00</td>\n",
       "      <td>14</td>\n",
       "    </tr>\n",
       "  </tbody>\n",
       "</table>\n",
       "</div>"
      ],
      "text/plain": [
       "               row ID  pm2.5\n",
       "0  2013-07-02 4:00:00     14\n",
       "1  2013-07-02 5:00:00     14\n",
       "2  2013-07-02 6:00:00     14"
      ]
     },
     "metadata": {},
     "output_type": "display_data"
    }
   ],
   "source": [
    "# Load the raw data\n",
    "train_raw, test_raw, sample_sub = load_raw()\n",
    "print(\"Shapes:\", train_raw.shape, test_raw.shape, sample_sub.shape)\n",
    "display(train_raw.head(3))\n",
    "display(test_raw.head(3))\n",
    "display(sample_sub.head(3))\n"
   ]
  },
  {
   "cell_type": "code",
   "execution_count": 3,
   "id": "a16728d8",
   "metadata": {},
   "outputs": [
    {
     "name": "stdout",
     "output_type": "stream",
     "text": [
      "Detected datetime columns: train='datetime', test='datetime'\n",
      "Detected target columns: train='pm2.5', test='None'\n",
      "Using target column: pm2.5\n"
     ]
    }
   ],
   "source": [
    "# Detect target column and set up variables\n",
    "train_dt, train_y = detect_columns(train_raw)\n",
    "test_dt, test_y = detect_columns(test_raw)\n",
    "\n",
    "print(f\"Detected datetime columns: train='{train_dt}', test='{test_dt}'\")\n",
    "print(f\"Detected target columns: train='{train_y}', test='{test_y}'\")\n",
    "\n",
    "# Set target variable\n",
    "TARGET = \"pm2_5\" if \"pm2_5\" in train_raw.columns else train_y\n",
    "TARGET = train_y if train_y in train_raw.columns else \"pm2_5\"  # alias if you created pm2_5\n",
    "assert TARGET in train_raw.columns, f\"Target column not found in train: {TARGET}\"\n",
    "\n",
    "print(f\"Using target column: {TARGET}\")\n",
    "\n",
    "# Set up train and test variables\n",
    "train = train_raw\n",
    "test = test_raw\n"
   ]
  },
  {
   "cell_type": "markdown",
   "id": "3c77dec5",
   "metadata": {},
   "source": [
    "## 3. Load raw data (read-only)\n",
    "\n"
   ]
  },
  {
   "cell_type": "code",
   "execution_count": 4,
   "id": "d0bc374c",
   "metadata": {},
   "outputs": [
    {
     "name": "stdout",
     "output_type": "stream",
     "text": [
      "Shapes: (30676, 12) (13148, 11) (13148, 2)\n"
     ]
    },
    {
     "data": {
      "text/html": [
       "<div>\n",
       "<style scoped>\n",
       "    .dataframe tbody tr th:only-of-type {\n",
       "        vertical-align: middle;\n",
       "    }\n",
       "\n",
       "    .dataframe tbody tr th {\n",
       "        vertical-align: top;\n",
       "    }\n",
       "\n",
       "    .dataframe thead th {\n",
       "        text-align: right;\n",
       "    }\n",
       "</style>\n",
       "<table border=\"1\" class=\"dataframe\">\n",
       "  <thead>\n",
       "    <tr style=\"text-align: right;\">\n",
       "      <th></th>\n",
       "      <th>No</th>\n",
       "      <th>DEWP</th>\n",
       "      <th>TEMP</th>\n",
       "      <th>PRES</th>\n",
       "      <th>Iws</th>\n",
       "      <th>Is</th>\n",
       "      <th>Ir</th>\n",
       "      <th>datetime</th>\n",
       "      <th>cbwd_NW</th>\n",
       "      <th>cbwd_SE</th>\n",
       "      <th>cbwd_cv</th>\n",
       "      <th>pm2.5</th>\n",
       "    </tr>\n",
       "  </thead>\n",
       "  <tbody>\n",
       "    <tr>\n",
       "      <th>0</th>\n",
       "      <td>1</td>\n",
       "      <td>-1.580878</td>\n",
       "      <td>-1.922250</td>\n",
       "      <td>0.443328</td>\n",
       "      <td>-0.441894</td>\n",
       "      <td>-0.069353</td>\n",
       "      <td>-0.137667</td>\n",
       "      <td>2010-01-01 00:00:00</td>\n",
       "      <td>1.448138</td>\n",
       "      <td>-0.732019</td>\n",
       "      <td>-0.522096</td>\n",
       "      <td>NaN</td>\n",
       "    </tr>\n",
       "    <tr>\n",
       "      <th>1</th>\n",
       "      <td>2</td>\n",
       "      <td>-1.580878</td>\n",
       "      <td>-2.004228</td>\n",
       "      <td>0.345943</td>\n",
       "      <td>-0.379306</td>\n",
       "      <td>-0.069353</td>\n",
       "      <td>-0.137667</td>\n",
       "      <td>2010-01-01 01:00:00</td>\n",
       "      <td>1.448138</td>\n",
       "      <td>-0.732019</td>\n",
       "      <td>-0.522096</td>\n",
       "      <td>NaN</td>\n",
       "    </tr>\n",
       "    <tr>\n",
       "      <th>2</th>\n",
       "      <td>3</td>\n",
       "      <td>-1.580878</td>\n",
       "      <td>-1.922250</td>\n",
       "      <td>0.248559</td>\n",
       "      <td>-0.343514</td>\n",
       "      <td>-0.069353</td>\n",
       "      <td>-0.137667</td>\n",
       "      <td>2010-01-01 02:00:00</td>\n",
       "      <td>1.448138</td>\n",
       "      <td>-0.732019</td>\n",
       "      <td>-0.522096</td>\n",
       "      <td>NaN</td>\n",
       "    </tr>\n",
       "  </tbody>\n",
       "</table>\n",
       "</div>"
      ],
      "text/plain": [
       "   No      DEWP      TEMP      PRES       Iws        Is        Ir  \\\n",
       "0   1 -1.580878 -1.922250  0.443328 -0.441894 -0.069353 -0.137667   \n",
       "1   2 -1.580878 -2.004228  0.345943 -0.379306 -0.069353 -0.137667   \n",
       "2   3 -1.580878 -1.922250  0.248559 -0.343514 -0.069353 -0.137667   \n",
       "\n",
       "              datetime   cbwd_NW   cbwd_SE   cbwd_cv  pm2.5  \n",
       "0  2010-01-01 00:00:00  1.448138 -0.732019 -0.522096    NaN  \n",
       "1  2010-01-01 01:00:00  1.448138 -0.732019 -0.522096    NaN  \n",
       "2  2010-01-01 02:00:00  1.448138 -0.732019 -0.522096    NaN  "
      ]
     },
     "metadata": {},
     "output_type": "display_data"
    },
    {
     "data": {
      "text/html": [
       "<div>\n",
       "<style scoped>\n",
       "    .dataframe tbody tr th:only-of-type {\n",
       "        vertical-align: middle;\n",
       "    }\n",
       "\n",
       "    .dataframe tbody tr th {\n",
       "        vertical-align: top;\n",
       "    }\n",
       "\n",
       "    .dataframe thead th {\n",
       "        text-align: right;\n",
       "    }\n",
       "</style>\n",
       "<table border=\"1\" class=\"dataframe\">\n",
       "  <thead>\n",
       "    <tr style=\"text-align: right;\">\n",
       "      <th></th>\n",
       "      <th>No</th>\n",
       "      <th>DEWP</th>\n",
       "      <th>TEMP</th>\n",
       "      <th>PRES</th>\n",
       "      <th>Iws</th>\n",
       "      <th>Is</th>\n",
       "      <th>Ir</th>\n",
       "      <th>datetime</th>\n",
       "      <th>cbwd_NW</th>\n",
       "      <th>cbwd_SE</th>\n",
       "      <th>cbwd_cv</th>\n",
       "    </tr>\n",
       "  </thead>\n",
       "  <tbody>\n",
       "    <tr>\n",
       "      <th>0</th>\n",
       "      <td>30677</td>\n",
       "      <td>1.190496</td>\n",
       "      <td>0.701029</td>\n",
       "      <td>-2.186052</td>\n",
       "      <td>-0.003982</td>\n",
       "      <td>-0.069353</td>\n",
       "      <td>-0.137667</td>\n",
       "      <td>2013-07-02 04:00:00</td>\n",
       "      <td>1.448138</td>\n",
       "      <td>-0.732019</td>\n",
       "      <td>-0.522096</td>\n",
       "    </tr>\n",
       "    <tr>\n",
       "      <th>1</th>\n",
       "      <td>30678</td>\n",
       "      <td>1.121211</td>\n",
       "      <td>0.619051</td>\n",
       "      <td>-2.186052</td>\n",
       "      <td>0.031811</td>\n",
       "      <td>-0.069353</td>\n",
       "      <td>-0.137667</td>\n",
       "      <td>2013-07-02 05:00:00</td>\n",
       "      <td>1.448138</td>\n",
       "      <td>-0.732019</td>\n",
       "      <td>-0.522096</td>\n",
       "    </tr>\n",
       "    <tr>\n",
       "      <th>2</th>\n",
       "      <td>30679</td>\n",
       "      <td>1.190496</td>\n",
       "      <td>0.783006</td>\n",
       "      <td>-2.186052</td>\n",
       "      <td>0.094398</td>\n",
       "      <td>-0.069353</td>\n",
       "      <td>-0.137667</td>\n",
       "      <td>2013-07-02 06:00:00</td>\n",
       "      <td>1.448138</td>\n",
       "      <td>-0.732019</td>\n",
       "      <td>-0.522096</td>\n",
       "    </tr>\n",
       "  </tbody>\n",
       "</table>\n",
       "</div>"
      ],
      "text/plain": [
       "      No      DEWP      TEMP      PRES       Iws        Is        Ir  \\\n",
       "0  30677  1.190496  0.701029 -2.186052 -0.003982 -0.069353 -0.137667   \n",
       "1  30678  1.121211  0.619051 -2.186052  0.031811 -0.069353 -0.137667   \n",
       "2  30679  1.190496  0.783006 -2.186052  0.094398 -0.069353 -0.137667   \n",
       "\n",
       "              datetime   cbwd_NW   cbwd_SE   cbwd_cv  \n",
       "0  2013-07-02 04:00:00  1.448138 -0.732019 -0.522096  \n",
       "1  2013-07-02 05:00:00  1.448138 -0.732019 -0.522096  \n",
       "2  2013-07-02 06:00:00  1.448138 -0.732019 -0.522096  "
      ]
     },
     "metadata": {},
     "output_type": "display_data"
    },
    {
     "data": {
      "text/html": [
       "<div>\n",
       "<style scoped>\n",
       "    .dataframe tbody tr th:only-of-type {\n",
       "        vertical-align: middle;\n",
       "    }\n",
       "\n",
       "    .dataframe tbody tr th {\n",
       "        vertical-align: top;\n",
       "    }\n",
       "\n",
       "    .dataframe thead th {\n",
       "        text-align: right;\n",
       "    }\n",
       "</style>\n",
       "<table border=\"1\" class=\"dataframe\">\n",
       "  <thead>\n",
       "    <tr style=\"text-align: right;\">\n",
       "      <th></th>\n",
       "      <th>row ID</th>\n",
       "      <th>pm2.5</th>\n",
       "    </tr>\n",
       "  </thead>\n",
       "  <tbody>\n",
       "    <tr>\n",
       "      <th>0</th>\n",
       "      <td>2013-07-02 4:00:00</td>\n",
       "      <td>14</td>\n",
       "    </tr>\n",
       "    <tr>\n",
       "      <th>1</th>\n",
       "      <td>2013-07-02 5:00:00</td>\n",
       "      <td>14</td>\n",
       "    </tr>\n",
       "    <tr>\n",
       "      <th>2</th>\n",
       "      <td>2013-07-02 6:00:00</td>\n",
       "      <td>14</td>\n",
       "    </tr>\n",
       "  </tbody>\n",
       "</table>\n",
       "</div>"
      ],
      "text/plain": [
       "               row ID  pm2.5\n",
       "0  2013-07-02 4:00:00     14\n",
       "1  2013-07-02 5:00:00     14\n",
       "2  2013-07-02 6:00:00     14"
      ]
     },
     "metadata": {},
     "output_type": "display_data"
    }
   ],
   "source": [
    "train_raw, test_raw, sample_sub = load_raw()\n",
    "print(\"Shapes:\", train_raw.shape, test_raw.shape, sample_sub.shape)\n",
    "display(train_raw.head(3))\n",
    "display(test_raw.head(3))\n",
    "display(sample_sub.head(3))\n"
   ]
  },
  {
   "cell_type": "code",
   "execution_count": 5,
   "id": "000db79a",
   "metadata": {},
   "outputs": [
    {
     "name": "stderr",
     "output_type": "stream",
     "text": [
      "2025-09-21 16:42:35,575 | INFO | Parsed & sorted. Train[end]=2013-07-02 03:00:00 | Test[start]=2013-07-02 04:00:00\n"
     ]
    },
    {
     "name": "stdout",
     "output_type": "stream",
     "text": [
      "Detected:\n",
      "  train datetime: datetime\n",
      "  train target  : pm2.5\n",
      "  test  datetime: datetime\n"
     ]
    }
   ],
   "source": [
    "train_dt, train_y = detect_columns(train_raw)\n",
    "test_dt, _ = detect_columns(test_raw)\n",
    "\n",
    "print(\"Detected:\")\n",
    "print(\"  train datetime:\", train_dt)\n",
    "print(\"  train target  :\", train_y)\n",
    "print(\"  test  datetime:\", test_dt)\n",
    "\n",
    "assert train_dt and train_y and test_dt, \"Failed to detect dt/target columns.\"\n",
    "\n",
    "train = parse_sort_assert(train_raw, train_dt)\n",
    "test  = parse_sort_assert(test_raw, test_dt)\n",
    "\n",
    "log.info(\"Parsed & sorted. Train[end]=%s | Test[start]=%s\", train[train_dt].iloc[-1], test[test_dt].iloc[0])\n"
   ]
  },
  {
   "cell_type": "code",
   "execution_count": 6,
   "id": "3b8e9a00",
   "metadata": {},
   "outputs": [
    {
     "name": "stderr",
     "output_type": "stream",
     "text": [
      "2025-09-21 16:42:35,580 | INFO | Boundary check (last train + 1h == first test): PASS ✅\n"
     ]
    },
    {
     "name": "stdout",
     "output_type": "stream",
     "text": [
      "TRAIN snapshot: {'n_rows': 30676, 'n_cols': 12, 'first_ts': '2010-01-01T00:00:00', 'last_ts': '2013-07-02T03:00:00', 'columns': ['No', 'DEWP', 'TEMP', 'PRES', 'Iws', 'Is', 'Ir', 'datetime', 'cbwd_NW', 'cbwd_SE', 'cbwd_cv', 'pm2.5'], 'target_non_null': 28755, 'target_null': 1921}\n",
      "TEST  snapshot: {'n_rows': 13148, 'n_cols': 11, 'first_ts': '2013-07-02T04:00:00', 'last_ts': '2014-12-31T23:00:00', 'columns': ['No', 'DEWP', 'TEMP', 'PRES', 'Iws', 'Is', 'Ir', 'datetime', 'cbwd_NW', 'cbwd_SE', 'cbwd_cv']}\n",
      "Boundary: PASS ✅\n"
     ]
    },
    {
     "data": {
      "text/html": [
       "<div>\n",
       "<style scoped>\n",
       "    .dataframe tbody tr th:only-of-type {\n",
       "        vertical-align: middle;\n",
       "    }\n",
       "\n",
       "    .dataframe tbody tr th {\n",
       "        vertical-align: top;\n",
       "    }\n",
       "\n",
       "    .dataframe thead th {\n",
       "        text-align: right;\n",
       "    }\n",
       "</style>\n",
       "<table border=\"1\" class=\"dataframe\">\n",
       "  <thead>\n",
       "    <tr style=\"text-align: right;\">\n",
       "      <th></th>\n",
       "      <th>datetime</th>\n",
       "      <th>pm2.5</th>\n",
       "    </tr>\n",
       "  </thead>\n",
       "  <tbody>\n",
       "    <tr>\n",
       "      <th>30673</th>\n",
       "      <td>2013-07-02 01:00:00</td>\n",
       "      <td>32.0</td>\n",
       "    </tr>\n",
       "    <tr>\n",
       "      <th>30674</th>\n",
       "      <td>2013-07-02 02:00:00</td>\n",
       "      <td>19.0</td>\n",
       "    </tr>\n",
       "    <tr>\n",
       "      <th>30675</th>\n",
       "      <td>2013-07-02 03:00:00</td>\n",
       "      <td>18.0</td>\n",
       "    </tr>\n",
       "  </tbody>\n",
       "</table>\n",
       "</div>"
      ],
      "text/plain": [
       "                 datetime  pm2.5\n",
       "30673 2013-07-02 01:00:00   32.0\n",
       "30674 2013-07-02 02:00:00   19.0\n",
       "30675 2013-07-02 03:00:00   18.0"
      ]
     },
     "metadata": {},
     "output_type": "display_data"
    },
    {
     "data": {
      "text/html": [
       "<div>\n",
       "<style scoped>\n",
       "    .dataframe tbody tr th:only-of-type {\n",
       "        vertical-align: middle;\n",
       "    }\n",
       "\n",
       "    .dataframe tbody tr th {\n",
       "        vertical-align: top;\n",
       "    }\n",
       "\n",
       "    .dataframe thead th {\n",
       "        text-align: right;\n",
       "    }\n",
       "</style>\n",
       "<table border=\"1\" class=\"dataframe\">\n",
       "  <thead>\n",
       "    <tr style=\"text-align: right;\">\n",
       "      <th></th>\n",
       "      <th>datetime</th>\n",
       "    </tr>\n",
       "  </thead>\n",
       "  <tbody>\n",
       "    <tr>\n",
       "      <th>0</th>\n",
       "      <td>2013-07-02 04:00:00</td>\n",
       "    </tr>\n",
       "    <tr>\n",
       "      <th>1</th>\n",
       "      <td>2013-07-02 05:00:00</td>\n",
       "    </tr>\n",
       "    <tr>\n",
       "      <th>2</th>\n",
       "      <td>2013-07-02 06:00:00</td>\n",
       "    </tr>\n",
       "  </tbody>\n",
       "</table>\n",
       "</div>"
      ],
      "text/plain": [
       "             datetime\n",
       "0 2013-07-02 04:00:00\n",
       "1 2013-07-02 05:00:00\n",
       "2 2013-07-02 06:00:00"
      ]
     },
     "metadata": {},
     "output_type": "display_data"
    }
   ],
   "source": [
    "train_snap = snapshot(train, train_dt, train_y)\n",
    "test_snap  = snapshot(test,  test_dt)\n",
    "\n",
    "print(\"TRAIN snapshot:\", train_snap)\n",
    "print(\"TEST  snapshot:\", test_snap)\n",
    "\n",
    "ok = boundary_check(train[train_dt].iloc[-1], test[test_dt].iloc[0])\n",
    "print(\"Boundary:\", \"PASS ✅\" if ok else \"FAIL ❌\")\n",
    "\n",
    "# Show last/first 3 rows around the split\n",
    "display(train.tail(3)[[train_dt, train_y]])\n",
    "display(test.head(3)[[test_dt]])\n"
   ]
  },
  {
   "cell_type": "markdown",
   "id": "628352ba",
   "metadata": {},
   "source": [
    "## 4. Datetime parsing & continuity checks\n",
    "\n"
   ]
  },
  {
   "cell_type": "code",
   "execution_count": 7,
   "id": "91725008",
   "metadata": {},
   "outputs": [
    {
     "name": "stderr",
     "output_type": "stream",
     "text": [
      "2025-09-21 16:42:35,644 | INFO | Saved /Users/testsolutions/Documents/school/year3/term2/time-series-forecasting/tsf-repo/outputs/figures/eda_continuity_train.png\n",
      "2025-09-21 16:42:35,681 | INFO | Saved /Users/testsolutions/Documents/school/year3/term2/time-series-forecasting/tsf-repo/outputs/figures/eda_continuity_test.png\n"
     ]
    },
    {
     "data": {
      "text/plain": [
       "PosixPath('/Users/testsolutions/Documents/school/year3/term2/time-series-forecasting/tsf-repo/outputs/figures/eda_continuity_test.png')"
      ]
     },
     "execution_count": 7,
     "metadata": {},
     "output_type": "execute_result"
    }
   ],
   "source": [
    "save_continuity_hist(train, train_dt, \"train\")\n",
    "save_continuity_hist(test,  test_dt,  \"test\")\n"
   ]
  },
  {
   "cell_type": "markdown",
   "id": "88480f81",
   "metadata": {},
   "source": [
    "## 5. Missingness analysis\n",
    "### 5.1 Missingness profiles + figures\n",
    "\n"
   ]
  },
  {
   "cell_type": "code",
   "execution_count": 8,
   "id": "7f00c0ce",
   "metadata": {},
   "outputs": [
    {
     "name": "stderr",
     "output_type": "stream",
     "text": [
      "2025-09-21 16:42:35,797 | INFO | Saved /Users/testsolutions/Documents/school/year3/term2/time-series-forecasting/tsf-repo/outputs/figures/eda_missing_train.png\n"
     ]
    },
    {
     "data": {
      "text/html": [
       "<div>\n",
       "<style scoped>\n",
       "    .dataframe tbody tr th:only-of-type {\n",
       "        vertical-align: middle;\n",
       "    }\n",
       "\n",
       "    .dataframe tbody tr th {\n",
       "        vertical-align: top;\n",
       "    }\n",
       "\n",
       "    .dataframe thead th {\n",
       "        text-align: right;\n",
       "    }\n",
       "</style>\n",
       "<table border=\"1\" class=\"dataframe\">\n",
       "  <thead>\n",
       "    <tr style=\"text-align: right;\">\n",
       "      <th></th>\n",
       "      <th>na_count</th>\n",
       "      <th>na_pct</th>\n",
       "    </tr>\n",
       "  </thead>\n",
       "  <tbody>\n",
       "    <tr>\n",
       "      <th>pm2.5</th>\n",
       "      <td>1921</td>\n",
       "      <td>6.262225</td>\n",
       "    </tr>\n",
       "    <tr>\n",
       "      <th>No</th>\n",
       "      <td>0</td>\n",
       "      <td>0.000000</td>\n",
       "    </tr>\n",
       "    <tr>\n",
       "      <th>DEWP</th>\n",
       "      <td>0</td>\n",
       "      <td>0.000000</td>\n",
       "    </tr>\n",
       "    <tr>\n",
       "      <th>TEMP</th>\n",
       "      <td>0</td>\n",
       "      <td>0.000000</td>\n",
       "    </tr>\n",
       "    <tr>\n",
       "      <th>PRES</th>\n",
       "      <td>0</td>\n",
       "      <td>0.000000</td>\n",
       "    </tr>\n",
       "    <tr>\n",
       "      <th>Iws</th>\n",
       "      <td>0</td>\n",
       "      <td>0.000000</td>\n",
       "    </tr>\n",
       "    <tr>\n",
       "      <th>Is</th>\n",
       "      <td>0</td>\n",
       "      <td>0.000000</td>\n",
       "    </tr>\n",
       "    <tr>\n",
       "      <th>Ir</th>\n",
       "      <td>0</td>\n",
       "      <td>0.000000</td>\n",
       "    </tr>\n",
       "    <tr>\n",
       "      <th>datetime</th>\n",
       "      <td>0</td>\n",
       "      <td>0.000000</td>\n",
       "    </tr>\n",
       "    <tr>\n",
       "      <th>cbwd_NW</th>\n",
       "      <td>0</td>\n",
       "      <td>0.000000</td>\n",
       "    </tr>\n",
       "    <tr>\n",
       "      <th>cbwd_SE</th>\n",
       "      <td>0</td>\n",
       "      <td>0.000000</td>\n",
       "    </tr>\n",
       "    <tr>\n",
       "      <th>cbwd_cv</th>\n",
       "      <td>0</td>\n",
       "      <td>0.000000</td>\n",
       "    </tr>\n",
       "  </tbody>\n",
       "</table>\n",
       "</div>"
      ],
      "text/plain": [
       "          na_count    na_pct\n",
       "pm2.5         1921  6.262225\n",
       "No               0  0.000000\n",
       "DEWP             0  0.000000\n",
       "TEMP             0  0.000000\n",
       "PRES             0  0.000000\n",
       "Iws              0  0.000000\n",
       "Is               0  0.000000\n",
       "Ir               0  0.000000\n",
       "datetime         0  0.000000\n",
       "cbwd_NW          0  0.000000\n",
       "cbwd_SE          0  0.000000\n",
       "cbwd_cv          0  0.000000"
      ]
     },
     "metadata": {},
     "output_type": "display_data"
    },
    {
     "name": "stderr",
     "output_type": "stream",
     "text": [
      "2025-09-21 16:42:35,844 | INFO | Saved /Users/testsolutions/Documents/school/year3/term2/time-series-forecasting/tsf-repo/outputs/figures/eda_missing_test.png\n"
     ]
    },
    {
     "name": "stdout",
     "output_type": "stream",
     "text": [
      "Saved figure: /Users/testsolutions/Documents/school/year3/term2/time-series-forecasting/tsf-repo/outputs/figures/eda_missing_train.png\n"
     ]
    },
    {
     "data": {
      "text/html": [
       "<div>\n",
       "<style scoped>\n",
       "    .dataframe tbody tr th:only-of-type {\n",
       "        vertical-align: middle;\n",
       "    }\n",
       "\n",
       "    .dataframe tbody tr th {\n",
       "        vertical-align: top;\n",
       "    }\n",
       "\n",
       "    .dataframe thead th {\n",
       "        text-align: right;\n",
       "    }\n",
       "</style>\n",
       "<table border=\"1\" class=\"dataframe\">\n",
       "  <thead>\n",
       "    <tr style=\"text-align: right;\">\n",
       "      <th></th>\n",
       "      <th>na_count</th>\n",
       "      <th>na_pct</th>\n",
       "    </tr>\n",
       "  </thead>\n",
       "  <tbody>\n",
       "    <tr>\n",
       "      <th>No</th>\n",
       "      <td>0</td>\n",
       "      <td>0.0</td>\n",
       "    </tr>\n",
       "    <tr>\n",
       "      <th>DEWP</th>\n",
       "      <td>0</td>\n",
       "      <td>0.0</td>\n",
       "    </tr>\n",
       "    <tr>\n",
       "      <th>TEMP</th>\n",
       "      <td>0</td>\n",
       "      <td>0.0</td>\n",
       "    </tr>\n",
       "    <tr>\n",
       "      <th>PRES</th>\n",
       "      <td>0</td>\n",
       "      <td>0.0</td>\n",
       "    </tr>\n",
       "    <tr>\n",
       "      <th>Iws</th>\n",
       "      <td>0</td>\n",
       "      <td>0.0</td>\n",
       "    </tr>\n",
       "    <tr>\n",
       "      <th>Is</th>\n",
       "      <td>0</td>\n",
       "      <td>0.0</td>\n",
       "    </tr>\n",
       "    <tr>\n",
       "      <th>Ir</th>\n",
       "      <td>0</td>\n",
       "      <td>0.0</td>\n",
       "    </tr>\n",
       "    <tr>\n",
       "      <th>datetime</th>\n",
       "      <td>0</td>\n",
       "      <td>0.0</td>\n",
       "    </tr>\n",
       "    <tr>\n",
       "      <th>cbwd_NW</th>\n",
       "      <td>0</td>\n",
       "      <td>0.0</td>\n",
       "    </tr>\n",
       "    <tr>\n",
       "      <th>cbwd_SE</th>\n",
       "      <td>0</td>\n",
       "      <td>0.0</td>\n",
       "    </tr>\n",
       "    <tr>\n",
       "      <th>cbwd_cv</th>\n",
       "      <td>0</td>\n",
       "      <td>0.0</td>\n",
       "    </tr>\n",
       "  </tbody>\n",
       "</table>\n",
       "</div>"
      ],
      "text/plain": [
       "          na_count  na_pct\n",
       "No               0     0.0\n",
       "DEWP             0     0.0\n",
       "TEMP             0     0.0\n",
       "PRES             0     0.0\n",
       "Iws              0     0.0\n",
       "Is               0     0.0\n",
       "Ir               0     0.0\n",
       "datetime         0     0.0\n",
       "cbwd_NW          0     0.0\n",
       "cbwd_SE          0     0.0\n",
       "cbwd_cv          0     0.0"
      ]
     },
     "metadata": {},
     "output_type": "display_data"
    },
    {
     "name": "stdout",
     "output_type": "stream",
     "text": [
      "Saved figure: /Users/testsolutions/Documents/school/year3/term2/time-series-forecasting/tsf-repo/outputs/figures/eda_missing_test.png\n"
     ]
    }
   ],
   "source": [
    "# Train missingness\n",
    "miss_train = profile_missingness(train, tag=\"train\", top_n=20)\n",
    "display(miss_train.table.head(20))\n",
    "print(\"Saved figure:\", miss_train.figure_path)\n",
    "\n",
    "# Test missingness\n",
    "miss_test = profile_missingness(test, tag=\"test\", top_n=20)\n",
    "display(miss_test.table.head(20))\n",
    "print(\"Saved figure:\", miss_test.figure_path)\n"
   ]
  },
  {
   "cell_type": "markdown",
   "id": "136fc79c",
   "metadata": {},
   "source": [
    "### 5.2 Drop missing target and ffill/bfill features as plan"
   ]
  },
  {
   "cell_type": "code",
   "execution_count": 9,
   "id": "5ae0d4c6",
   "metadata": {},
   "outputs": [
    {
     "name": "stdout",
     "output_type": "stream",
     "text": [
      "Rows with missing target in train: 1921\n",
      "TRAIN NaNs before/after ffill+bfill: {'total_nan_before': 0, 'total_nan_after_ffill_bfill': 0}\n",
      "TEST  NaNs before/after ffill+bfill: {'total_nan_before': 0, 'total_nan_after_ffill_bfill': 0}\n"
     ]
    }
   ],
   "source": [
    "# Count rows with missing target in TRAIN (to be DROPPED)\n",
    "n_miss_target = count_missing_target(train, target_col=train_y)\n",
    "print(f\"Rows with missing target in train: {n_miss_target}\")\n",
    "\n",
    "# Dry-run the feature fill to see reduction in NaNs (does not mutate)\n",
    "dry_train = dry_run_feature_fill(train.drop(columns=[train_y], errors=\"ignore\"))\n",
    "dry_test  = dry_run_feature_fill(test.copy())\n",
    "print(\"TRAIN NaNs before/after ffill+bfill:\", dry_train)\n",
    "print(\"TEST  NaNs before/after ffill+bfill:\", dry_test)\n"
   ]
  },
  {
   "cell_type": "markdown",
   "id": "5a8d728e",
   "metadata": {},
   "source": [
    "### 5.4 Quick integrity prints"
   ]
  },
  {
   "cell_type": "code",
   "execution_count": 10,
   "id": "950b3138",
   "metadata": {},
   "outputs": [
    {
     "name": "stdout",
     "output_type": "stream",
     "text": [
      "Columns with NaNs (train): ['pm2.5']\n",
      "Columns with NaNs (test) : []\n"
     ]
    }
   ],
   "source": [
    "# Which columns have any NaNs after ffill/bfill (dry run)?\n",
    "cols_train_nan = miss_train.table.query(\"na_count > 0\").index.tolist()\n",
    "cols_test_nan  = miss_test.table.query(\"na_count > 0\").index.tolist()\n",
    "print(\"Columns with NaNs (train):\", cols_train_nan[:20])\n",
    "print(\"Columns with NaNs (test) :\", cols_test_nan[:20])\n"
   ]
  },
  {
   "cell_type": "code",
   "execution_count": null,
   "id": "f6d37ad3",
   "metadata": {},
   "outputs": [],
   "source": [
    "\n"
   ]
  },
  {
   "cell_type": "code",
   "execution_count": 11,
   "id": "e836a5de",
   "metadata": {},
   "outputs": [
    {
     "name": "stdout",
     "output_type": "stream",
     "text": [
      "OUTPUTS is already available\n"
     ]
    }
   ],
   "source": [
    "# Quick fix: Import OUTPUTS if not already available\n",
    "try:\n",
    "    OUTPUTS\n",
    "    print(\"OUTPUTS is already available\")\n",
    "except NameError:\n",
    "    from src.config import OUTPUTS\n",
    "    print(\"OUTPUTS imported successfully\")\n",
    "    print(f\"OUTPUTS points to: {OUTPUTS}\")\n"
   ]
  },
  {
   "cell_type": "markdown",
   "id": "8e3edbf7",
   "metadata": {},
   "source": [
    "## 6. Target distribution & outliers\n",
    "\n"
   ]
  },
  {
   "cell_type": "code",
   "execution_count": null,
   "id": "b5462c16",
   "metadata": {},
   "outputs": [],
   "source": []
  },
  {
   "cell_type": "markdown",
   "id": "cf823b8f",
   "metadata": {},
   "source": [
    "## 7. Seasonality (hour/day/week/month)\n",
    "\n"
   ]
  },
  {
   "cell_type": "markdown",
   "id": "a8736d73",
   "metadata": {},
   "source": [
    "### 7.1 Standardize target name in-memory for plotting"
   ]
  },
  {
   "cell_type": "code",
   "execution_count": 12,
   "id": "bbe82bc1",
   "metadata": {},
   "outputs": [
    {
     "data": {
      "text/html": [
       "<div>\n",
       "<style scoped>\n",
       "    .dataframe tbody tr th:only-of-type {\n",
       "        vertical-align: middle;\n",
       "    }\n",
       "\n",
       "    .dataframe tbody tr th {\n",
       "        vertical-align: top;\n",
       "    }\n",
       "\n",
       "    .dataframe thead th {\n",
       "        text-align: right;\n",
       "    }\n",
       "</style>\n",
       "<table border=\"1\" class=\"dataframe\">\n",
       "  <thead>\n",
       "    <tr style=\"text-align: right;\">\n",
       "      <th></th>\n",
       "      <th>pm2_5</th>\n",
       "    </tr>\n",
       "  </thead>\n",
       "  <tbody>\n",
       "    <tr>\n",
       "      <th>0</th>\n",
       "      <td>NaN</td>\n",
       "    </tr>\n",
       "    <tr>\n",
       "      <th>1</th>\n",
       "      <td>NaN</td>\n",
       "    </tr>\n",
       "    <tr>\n",
       "      <th>2</th>\n",
       "      <td>NaN</td>\n",
       "    </tr>\n",
       "  </tbody>\n",
       "</table>\n",
       "</div>"
      ],
      "text/plain": [
       "   pm2_5\n",
       "0    NaN\n",
       "1    NaN\n",
       "2    NaN"
      ]
     },
     "metadata": {},
     "output_type": "display_data"
    }
   ],
   "source": [
    "# Create pm2_5 alias if needed (no file write yet)\n",
    "if \"pm2_5\" not in train.columns:\n",
    "    if \"pm2.5\" in train.columns:\n",
    "        train[\"pm2_5\"] = train[\"pm2.5\"].astype(float)\n",
    "    else:\n",
    "        raise ValueError(\"Could not find target column 'pm2.5' to alias as 'pm2_5'.\")\n",
    "\n",
    "# Quick sanity\n",
    "display(train[[\"pm2_5\"]].head(3))\n"
   ]
  },
  {
   "cell_type": "markdown",
   "id": "ab14e00e",
   "metadata": {},
   "source": [
    "### 7.2 Target distribution plots"
   ]
  },
  {
   "cell_type": "code",
   "execution_count": 13,
   "id": "92c08195",
   "metadata": {},
   "outputs": [
    {
     "name": "stderr",
     "output_type": "stream",
     "text": [
      "2025-09-21 16:42:35,943 | INFO | Saved /Users/testsolutions/Documents/school/year3/term2/time-series-forecasting/tsf-repo/outputs/figures/eda_target_hist.png\n",
      "2025-09-21 16:42:35,977 | INFO | Saved /Users/testsolutions/Documents/school/year3/term2/time-series-forecasting/tsf-repo/outputs/figures/eda_target_box.png\n"
     ]
    },
    {
     "name": "stdout",
     "output_type": "stream",
     "text": [
      "Saved: /Users/testsolutions/Documents/school/year3/term2/time-series-forecasting/tsf-repo/outputs/figures/eda_target_hist.png /Users/testsolutions/Documents/school/year3/term2/time-series-forecasting/tsf-repo/outputs/figures/eda_target_box.png\n"
     ]
    }
   ],
   "source": [
    "p1 = hist_target(train[\"pm2_5\"], \"Target distribution: pm2_5 (train)\", \"eda_target_hist.png\")\n",
    "p2 = box_target(train[\"pm2_5\"], \"Target boxplot: pm2_5 (train)\", \"eda_target_box.png\")\n",
    "print(\"Saved:\", p1, p2)\n"
   ]
  },
  {
   "cell_type": "markdown",
   "id": "66a83c37",
   "metadata": {},
   "source": [
    "### 7.3 Add time parts (hour/month) for seasonal plots (no cyclic yet)"
   ]
  },
  {
   "cell_type": "code",
   "execution_count": 14,
   "id": "f14bfe5e",
   "metadata": {},
   "outputs": [
    {
     "name": "stderr",
     "output_type": "stream",
     "text": [
      "2025-09-21 16:42:36,089 | INFO | Saved /Users/testsolutions/Documents/school/year3/term2/time-series-forecasting/tsf-repo/outputs/figures/eda_seasonality_hour.png\n",
      "2025-09-21 16:42:36,139 | INFO | Saved /Users/testsolutions/Documents/school/year3/term2/time-series-forecasting/tsf-repo/outputs/figures/eda_seasonality_month.png\n"
     ]
    },
    {
     "name": "stdout",
     "output_type": "stream",
     "text": [
      "Saved: /Users/testsolutions/Documents/school/year3/term2/time-series-forecasting/tsf-repo/outputs/figures/eda_seasonality_hour.png /Users/testsolutions/Documents/school/year3/term2/time-series-forecasting/tsf-repo/outputs/figures/eda_seasonality_month.png\n"
     ]
    }
   ],
   "source": [
    "train_tp = add_time_parts(train, dt_col=train_dt)\n",
    "\n",
    "p_hour = seasonal_mean(train_tp, by=\"hour\",  target=\"pm2_5\",\n",
    "                       title=\"Seasonality: Hour-of-day mean pm2_5 (train)\",\n",
    "                       fname=\"eda_seasonality_hour.png\")\n",
    "\n",
    "p_month = seasonal_mean(train_tp, by=\"month\", target=\"pm2_5\",\n",
    "                        title=\"Seasonality: Month mean pm2_5 (train)\",\n",
    "                        fname=\"eda_seasonality_month.png\")\n",
    "\n",
    "print(\"Saved:\", p_hour, p_month)\n"
   ]
  },
  {
   "cell_type": "markdown",
   "id": "92a59106",
   "metadata": {},
   "source": [
    "### 7.4 Lock decision: train on log1p(pm2_5)"
   ]
  },
  {
   "cell_type": "code",
   "execution_count": 15,
   "id": "b3f358bf",
   "metadata": {},
   "outputs": [
    {
     "name": "stdout",
     "output_type": "stream",
     "text": [
      "Preview of transformed target:\n"
     ]
    },
    {
     "data": {
      "text/html": [
       "<div>\n",
       "<style scoped>\n",
       "    .dataframe tbody tr th:only-of-type {\n",
       "        vertical-align: middle;\n",
       "    }\n",
       "\n",
       "    .dataframe tbody tr th {\n",
       "        vertical-align: top;\n",
       "    }\n",
       "\n",
       "    .dataframe thead th {\n",
       "        text-align: right;\n",
       "    }\n",
       "</style>\n",
       "<table border=\"1\" class=\"dataframe\">\n",
       "  <thead>\n",
       "    <tr style=\"text-align: right;\">\n",
       "      <th></th>\n",
       "      <th>pm2_5</th>\n",
       "      <th>pm2_5_log1p</th>\n",
       "    </tr>\n",
       "  </thead>\n",
       "  <tbody>\n",
       "    <tr>\n",
       "      <th>0</th>\n",
       "      <td>NaN</td>\n",
       "      <td>NaN</td>\n",
       "    </tr>\n",
       "    <tr>\n",
       "      <th>1</th>\n",
       "      <td>NaN</td>\n",
       "      <td>NaN</td>\n",
       "    </tr>\n",
       "    <tr>\n",
       "      <th>2</th>\n",
       "      <td>NaN</td>\n",
       "      <td>NaN</td>\n",
       "    </tr>\n",
       "  </tbody>\n",
       "</table>\n",
       "</div>"
      ],
      "text/plain": [
       "   pm2_5  pm2_5_log1p\n",
       "0    NaN          NaN\n",
       "1    NaN          NaN\n",
       "2    NaN          NaN"
      ]
     },
     "metadata": {},
     "output_type": "display_data"
    }
   ],
   "source": [
    "# Rationale (concise): pm2_5 is right-skewed with heavy tails → log1p stabilizes variance and reduces the influence of outliers.\n",
    "train[\"pm2_5_log1p\"] = np.log1p(train[\"pm2_5\"])\n",
    "print(\"Preview of transformed target:\")\n",
    "display(train[[\"pm2_5\", \"pm2_5_log1p\"]].head(3))\n"
   ]
  },
  {
   "cell_type": "markdown",
   "id": "4fd1be47",
   "metadata": {},
   "source": [
    "## 8. Weather/exogenous relationships\n",
    "### 8.1 Choose candidate feature set\n",
    "\n"
   ]
  },
  {
   "cell_type": "code",
   "execution_count": 16,
   "id": "f1d98903",
   "metadata": {},
   "outputs": [
    {
     "name": "stdout",
     "output_type": "stream",
     "text": [
      "Candidate exogenous features: ['TEMP', 'DEWP', 'PRES', 'Iws', 'Is', 'Ir']\n",
      "All numeric (excl time/target/one-hots): ['No', 'DEWP', 'TEMP', 'PRES', 'Iws', 'Is', 'Ir', 'pm2_5', 'pm2_5_log1p'] ... (n= 9 )\n"
     ]
    }
   ],
   "source": [
    "# Good starting set for this dataset (auto-filtered to what's present)\n",
    "cand = candidate_exogenous(train)\n",
    "print(\"Candidate exogenous features:\", cand)\n",
    "\n",
    "# If you want to include all numeric cols except id/time/target/one-hots:\n",
    "EXCLUDE = {train_dt, TARGET}\n",
    "EXCLUDE |= {c for c in train.columns if c.startswith(\"cbwd\")}  # wind dir one-hots (categorical)\n",
    "num_all = numeric_columns(train, exclude=EXCLUDE)\n",
    "print(\"All numeric (excl time/target/one-hots):\", num_all[:12], \"... (n=\", len(num_all), \")\")\n"
   ]
  },
  {
   "cell_type": "markdown",
   "id": "6d31157e",
   "metadata": {},
   "source": [
    "### 8.2 Correlation with target (Pearson & Spearman)"
   ]
  },
  {
   "cell_type": "code",
   "execution_count": 17,
   "id": "6c629656",
   "metadata": {},
   "outputs": [
    {
     "data": {
      "text/html": [
       "<div>\n",
       "<style scoped>\n",
       "    .dataframe tbody tr th:only-of-type {\n",
       "        vertical-align: middle;\n",
       "    }\n",
       "\n",
       "    .dataframe tbody tr th {\n",
       "        vertical-align: top;\n",
       "    }\n",
       "\n",
       "    .dataframe thead th {\n",
       "        text-align: right;\n",
       "    }\n",
       "</style>\n",
       "<table border=\"1\" class=\"dataframe\">\n",
       "  <thead>\n",
       "    <tr style=\"text-align: right;\">\n",
       "      <th></th>\n",
       "      <th>feature</th>\n",
       "      <th>corr</th>\n",
       "      <th>abs_corr</th>\n",
       "    </tr>\n",
       "  </thead>\n",
       "  <tbody>\n",
       "    <tr>\n",
       "      <th>0</th>\n",
       "      <td>Iws</td>\n",
       "      <td>-0.260250</td>\n",
       "      <td>0.260250</td>\n",
       "    </tr>\n",
       "    <tr>\n",
       "      <th>1</th>\n",
       "      <td>DEWP</td>\n",
       "      <td>0.218187</td>\n",
       "      <td>0.218187</td>\n",
       "    </tr>\n",
       "    <tr>\n",
       "      <th>2</th>\n",
       "      <td>PRES</td>\n",
       "      <td>-0.107773</td>\n",
       "      <td>0.107773</td>\n",
       "    </tr>\n",
       "    <tr>\n",
       "      <th>3</th>\n",
       "      <td>Ir</td>\n",
       "      <td>-0.052288</td>\n",
       "      <td>0.052288</td>\n",
       "    </tr>\n",
       "    <tr>\n",
       "      <th>4</th>\n",
       "      <td>TEMP</td>\n",
       "      <td>-0.039601</td>\n",
       "      <td>0.039601</td>\n",
       "    </tr>\n",
       "    <tr>\n",
       "      <th>5</th>\n",
       "      <td>Is</td>\n",
       "      <td>0.022279</td>\n",
       "      <td>0.022279</td>\n",
       "    </tr>\n",
       "  </tbody>\n",
       "</table>\n",
       "</div>"
      ],
      "text/plain": [
       "  feature      corr  abs_corr\n",
       "0     Iws -0.260250  0.260250\n",
       "1    DEWP  0.218187  0.218187\n",
       "2    PRES -0.107773  0.107773\n",
       "3      Ir -0.052288  0.052288\n",
       "4    TEMP -0.039601  0.039601\n",
       "5      Is  0.022279  0.022279"
      ]
     },
     "metadata": {},
     "output_type": "display_data"
    },
    {
     "data": {
      "text/html": [
       "<div>\n",
       "<style scoped>\n",
       "    .dataframe tbody tr th:only-of-type {\n",
       "        vertical-align: middle;\n",
       "    }\n",
       "\n",
       "    .dataframe tbody tr th {\n",
       "        vertical-align: top;\n",
       "    }\n",
       "\n",
       "    .dataframe thead th {\n",
       "        text-align: right;\n",
       "    }\n",
       "</style>\n",
       "<table border=\"1\" class=\"dataframe\">\n",
       "  <thead>\n",
       "    <tr style=\"text-align: right;\">\n",
       "      <th></th>\n",
       "      <th>feature</th>\n",
       "      <th>corr</th>\n",
       "      <th>abs_corr</th>\n",
       "    </tr>\n",
       "  </thead>\n",
       "  <tbody>\n",
       "    <tr>\n",
       "      <th>0</th>\n",
       "      <td>Iws</td>\n",
       "      <td>-0.375004</td>\n",
       "      <td>0.375004</td>\n",
       "    </tr>\n",
       "    <tr>\n",
       "      <th>1</th>\n",
       "      <td>DEWP</td>\n",
       "      <td>0.348564</td>\n",
       "      <td>0.348564</td>\n",
       "    </tr>\n",
       "    <tr>\n",
       "      <th>2</th>\n",
       "      <td>PRES</td>\n",
       "      <td>-0.196648</td>\n",
       "      <td>0.196648</td>\n",
       "    </tr>\n",
       "    <tr>\n",
       "      <th>3</th>\n",
       "      <td>TEMP</td>\n",
       "      <td>0.063766</td>\n",
       "      <td>0.063766</td>\n",
       "    </tr>\n",
       "    <tr>\n",
       "      <th>4</th>\n",
       "      <td>Is</td>\n",
       "      <td>0.048279</td>\n",
       "      <td>0.048279</td>\n",
       "    </tr>\n",
       "    <tr>\n",
       "      <th>5</th>\n",
       "      <td>Ir</td>\n",
       "      <td>0.001529</td>\n",
       "      <td>0.001529</td>\n",
       "    </tr>\n",
       "  </tbody>\n",
       "</table>\n",
       "</div>"
      ],
      "text/plain": [
       "  feature      corr  abs_corr\n",
       "0     Iws -0.375004  0.375004\n",
       "1    DEWP  0.348564  0.348564\n",
       "2    PRES -0.196648  0.196648\n",
       "3    TEMP  0.063766  0.063766\n",
       "4      Is  0.048279  0.048279\n",
       "5      Ir  0.001529  0.001529"
      ]
     },
     "metadata": {},
     "output_type": "display_data"
    }
   ],
   "source": [
    "# Pearson (linear)\n",
    "pear = corr_with_target(train, TARGET, features=(cand if cand else num_all), method=\"pearson\")\n",
    "display(pear)\n",
    "\n",
    "# Spearman (rank/monotonic)\n",
    "spear = corr_with_target(train, TARGET, features=(cand if cand else num_all), method=\"spearman\")\n",
    "display(spear)\n",
    "\n",
    "# Save quick CSVs (optional, helps later in report)\n",
    "pear.to_csv(OUTPUTS / \"pearson_with_target.csv\", index=False)\n",
    "spear.to_csv(OUTPUTS / \"spearman_with_target.csv\", index=False)\n"
   ]
  },
  {
   "cell_type": "markdown",
   "id": "56cf4700",
   "metadata": {},
   "source": [
    "### 8.3 Feature collinearity (optional but useful)"
   ]
  },
  {
   "cell_type": "code",
   "execution_count": 18,
   "id": "781a6184",
   "metadata": {},
   "outputs": [
    {
     "data": {
      "text/html": [
       "<div>\n",
       "<style scoped>\n",
       "    .dataframe tbody tr th:only-of-type {\n",
       "        vertical-align: middle;\n",
       "    }\n",
       "\n",
       "    .dataframe tbody tr th {\n",
       "        vertical-align: top;\n",
       "    }\n",
       "\n",
       "    .dataframe thead th {\n",
       "        text-align: right;\n",
       "    }\n",
       "</style>\n",
       "<table border=\"1\" class=\"dataframe\">\n",
       "  <thead>\n",
       "    <tr style=\"text-align: right;\">\n",
       "      <th></th>\n",
       "      <th>TEMP</th>\n",
       "      <th>DEWP</th>\n",
       "      <th>PRES</th>\n",
       "      <th>Iws</th>\n",
       "      <th>Is</th>\n",
       "      <th>Ir</th>\n",
       "    </tr>\n",
       "  </thead>\n",
       "  <tbody>\n",
       "    <tr>\n",
       "      <th>TEMP</th>\n",
       "      <td>1.000</td>\n",
       "      <td>0.829</td>\n",
       "      <td>-0.825</td>\n",
       "      <td>-0.141</td>\n",
       "      <td>-0.102</td>\n",
       "      <td>0.050</td>\n",
       "    </tr>\n",
       "    <tr>\n",
       "      <th>DEWP</th>\n",
       "      <td>0.829</td>\n",
       "      <td>1.000</td>\n",
       "      <td>-0.770</td>\n",
       "      <td>-0.285</td>\n",
       "      <td>-0.037</td>\n",
       "      <td>0.127</td>\n",
       "    </tr>\n",
       "    <tr>\n",
       "      <th>PRES</th>\n",
       "      <td>-0.825</td>\n",
       "      <td>-0.770</td>\n",
       "      <td>1.000</td>\n",
       "      <td>0.177</td>\n",
       "      <td>0.081</td>\n",
       "      <td>-0.076</td>\n",
       "    </tr>\n",
       "    <tr>\n",
       "      <th>Iws</th>\n",
       "      <td>-0.141</td>\n",
       "      <td>-0.285</td>\n",
       "      <td>0.177</td>\n",
       "      <td>1.000</td>\n",
       "      <td>0.021</td>\n",
       "      <td>-0.006</td>\n",
       "    </tr>\n",
       "    <tr>\n",
       "      <th>Is</th>\n",
       "      <td>-0.102</td>\n",
       "      <td>-0.037</td>\n",
       "      <td>0.081</td>\n",
       "      <td>0.021</td>\n",
       "      <td>1.000</td>\n",
       "      <td>-0.011</td>\n",
       "    </tr>\n",
       "    <tr>\n",
       "      <th>Ir</th>\n",
       "      <td>0.050</td>\n",
       "      <td>0.127</td>\n",
       "      <td>-0.076</td>\n",
       "      <td>-0.006</td>\n",
       "      <td>-0.011</td>\n",
       "      <td>1.000</td>\n",
       "    </tr>\n",
       "  </tbody>\n",
       "</table>\n",
       "</div>"
      ],
      "text/plain": [
       "       TEMP   DEWP   PRES    Iws     Is     Ir\n",
       "TEMP  1.000  0.829 -0.825 -0.141 -0.102  0.050\n",
       "DEWP  0.829  1.000 -0.770 -0.285 -0.037  0.127\n",
       "PRES -0.825 -0.770  1.000  0.177  0.081 -0.076\n",
       "Iws  -0.141 -0.285  0.177  1.000  0.021 -0.006\n",
       "Is   -0.102 -0.037  0.081  0.021  1.000 -0.011\n",
       "Ir    0.050  0.127 -0.076 -0.006 -0.011  1.000"
      ]
     },
     "metadata": {},
     "output_type": "display_data"
    }
   ],
   "source": [
    "cols_for_matrix = cand if cand else num_all[:20]  # keep it readable\n",
    "cmat = corr_matrix(train.dropna(subset=[TARGET]), cols_for_matrix, method=\"pearson\")\n",
    "display(cmat.round(3))\n"
   ]
  },
  {
   "cell_type": "markdown",
   "id": "1aaecd6a",
   "metadata": {},
   "source": [
    "### 8.4 Scatter/hexbin plots for the top features"
   ]
  },
  {
   "cell_type": "code",
   "execution_count": 19,
   "id": "bb0df14b",
   "metadata": {},
   "outputs": [
    {
     "name": "stderr",
     "output_type": "stream",
     "text": [
      "2025-09-21 16:42:36,246 | INFO | Saved /Users/testsolutions/Documents/school/year3/term2/time-series-forecasting/tsf-repo/outputs/figures/eda_scatter_iws.png\n",
      "2025-09-21 16:42:36,319 | INFO | Saved /Users/testsolutions/Documents/school/year3/term2/time-series-forecasting/tsf-repo/outputs/figures/eda_hex_iws.png\n"
     ]
    },
    {
     "name": "stdout",
     "output_type": "stream",
     "text": [
      "Top features to visualize: ['Iws', 'DEWP', 'PRES', 'Ir']\n"
     ]
    },
    {
     "name": "stderr",
     "output_type": "stream",
     "text": [
      "2025-09-21 16:42:36,371 | INFO | Saved /Users/testsolutions/Documents/school/year3/term2/time-series-forecasting/tsf-repo/outputs/figures/eda_scatter_dewp.png\n",
      "2025-09-21 16:42:36,450 | INFO | Saved /Users/testsolutions/Documents/school/year3/term2/time-series-forecasting/tsf-repo/outputs/figures/eda_hex_dewp.png\n",
      "2025-09-21 16:42:36,497 | INFO | Saved /Users/testsolutions/Documents/school/year3/term2/time-series-forecasting/tsf-repo/outputs/figures/eda_scatter_pres.png\n",
      "2025-09-21 16:42:36,573 | INFO | Saved /Users/testsolutions/Documents/school/year3/term2/time-series-forecasting/tsf-repo/outputs/figures/eda_hex_pres.png\n",
      "2025-09-21 16:42:36,617 | INFO | Saved /Users/testsolutions/Documents/school/year3/term2/time-series-forecasting/tsf-repo/outputs/figures/eda_scatter_ir.png\n",
      "2025-09-21 16:42:36,687 | INFO | Saved /Users/testsolutions/Documents/school/year3/term2/time-series-forecasting/tsf-repo/outputs/figures/eda_hex_ir.png\n"
     ]
    },
    {
     "name": "stdout",
     "output_type": "stream",
     "text": [
      "Saved: [PosixPath('/Users/testsolutions/Documents/school/year3/term2/time-series-forecasting/tsf-repo/outputs/figures/eda_scatter_iws.png'), PosixPath('/Users/testsolutions/Documents/school/year3/term2/time-series-forecasting/tsf-repo/outputs/figures/eda_hex_iws.png'), PosixPath('/Users/testsolutions/Documents/school/year3/term2/time-series-forecasting/tsf-repo/outputs/figures/eda_scatter_dewp.png'), PosixPath('/Users/testsolutions/Documents/school/year3/term2/time-series-forecasting/tsf-repo/outputs/figures/eda_hex_dewp.png'), PosixPath('/Users/testsolutions/Documents/school/year3/term2/time-series-forecasting/tsf-repo/outputs/figures/eda_scatter_pres.png'), PosixPath('/Users/testsolutions/Documents/school/year3/term2/time-series-forecasting/tsf-repo/outputs/figures/eda_hex_pres.png'), PosixPath('/Users/testsolutions/Documents/school/year3/term2/time-series-forecasting/tsf-repo/outputs/figures/eda_scatter_ir.png'), PosixPath('/Users/testsolutions/Documents/school/year3/term2/time-series-forecasting/tsf-repo/outputs/figures/eda_hex_ir.png')]\n"
     ]
    }
   ],
   "source": [
    "# Pick top 3–4 by absolute Pearson corr (fallback to Spearman if needed)\n",
    "top_feats = pear.dropna().head(4)[\"feature\"].tolist() if pear.dropna().shape[0] else []\n",
    "print(\"Top features to visualize:\", top_feats)\n",
    "\n",
    "paths = []\n",
    "for feat in top_feats:\n",
    "    paths.append(\n",
    "        scatter_xy(\n",
    "            train, x=feat, y=TARGET,\n",
    "            fname=f\"eda_scatter_{feat.lower()}.png\",\n",
    "            title=f\"{TARGET} vs {feat}\"\n",
    "        )\n",
    "    )\n",
    "    # For very dense features like TEMP or PRES, also add a hexbin:\n",
    "    paths.append(\n",
    "        hexbin_xy(\n",
    "            train, x=feat, y=TARGET,\n",
    "            fname=f\"eda_hex_{feat.lower()}.png\",\n",
    "            title=f\"{TARGET} vs {feat} (hexbin)\"\n",
    "        )\n",
    "    )\n",
    "\n",
    "print(\"Saved:\", paths)\n"
   ]
  },
  {
   "cell_type": "markdown",
   "id": "c283cdde",
   "metadata": {},
   "source": [
    "## 9. Temporal dependence (ACF/PACF)\n",
    "### 9.1 Autocorrelation up to 400h\n"
   ]
  },
  {
   "cell_type": "code",
   "execution_count": 20,
   "id": "7841dbfe",
   "metadata": {},
   "outputs": [
    {
     "name": "stderr",
     "output_type": "stream",
     "text": [
      "2025-09-21 16:42:36,820 | INFO | Saved /Users/testsolutions/Documents/school/year3/term2/time-series-forecasting/tsf-repo/outputs/figures/eda_autocorr_pm2_5.png\n"
     ]
    },
    {
     "name": "stdout",
     "output_type": "stream",
     "text": [
      "Saved: /Users/testsolutions/Documents/school/year3/term2/time-series-forecasting/tsf-repo/outputs/figures/eda_autocorr_pm2_5.png\n"
     ]
    }
   ],
   "source": [
    "ac_path = plot_autocorr(\n",
    "    train[TARGET],\n",
    "    max_lag=400,\n",
    "    fname=\"eda_autocorr_pm2_5.png\",\n",
    "    title=\"Autocorrelation of pm2_5 (train) up to 400h\",\n",
    ")\n",
    "print(\"Saved:\", ac_path)\n"
   ]
  },
  {
   "cell_type": "markdown",
   "id": "066af499",
   "metadata": {},
   "source": [
    "### 9.2 Quantify seasonal lags"
   ]
  },
  {
   "cell_type": "code",
   "execution_count": 21,
   "id": "a1794c21",
   "metadata": {},
   "outputs": [
    {
     "name": "stdout",
     "output_type": "stream",
     "text": [
      "Autocorr at key lags: {24: 0.3799216730277738, 48: 0.16127758109060913, 72: 0.08847874716128508, 168: 0.014484060435086314, 336: 0.03285973703086032}\n"
     ]
    }
   ],
   "source": [
    "lags = [24, 48, 72, 168, 336]\n",
    "strength = seasonal_lag_strength(train[TARGET], periods=lags)\n",
    "print(\"Autocorr at key lags:\", strength)\n"
   ]
  },
  {
   "cell_type": "markdown",
   "id": "de466b62",
   "metadata": {},
   "source": [
    "### 9.3 PACF (if statsmodels is available)"
   ]
  },
  {
   "cell_type": "code",
   "execution_count": 22,
   "id": "d69b02e7",
   "metadata": {},
   "outputs": [
    {
     "name": "stderr",
     "output_type": "stream",
     "text": [
      "2025-09-21 16:42:36,830 | INFO | statsmodels not available; skipping PACF.\n"
     ]
    },
    {
     "name": "stdout",
     "output_type": "stream",
     "text": [
      "PACF saved: None\n"
     ]
    }
   ],
   "source": [
    "pacf_path = plot_pacf_optional(train[TARGET], max_lag=60, fname=\"eda_pacf_pm2_5.png\")\n",
    "print(\"PACF saved:\", pacf_path)\n"
   ]
  },
  {
   "cell_type": "markdown",
   "id": "53a7c20d",
   "metadata": {},
   "source": [
    "### 9.4 Lock lookback candidates"
   ]
  },
  {
   "cell_type": "code",
   "execution_count": 23,
   "id": "45a43f24",
   "metadata": {},
   "outputs": [
    {
     "data": {
      "text/plain": [
       "[72, 168, 336]"
      ]
     },
     "execution_count": 23,
     "metadata": {},
     "output_type": "execute_result"
    }
   ],
   "source": [
    "# Heuristic decision based on ACF: keep 72, 168, 336\n",
    "LOOKBACK_CANDIDATES = [72, 168, 336]\n",
    "LOOKBACK_CANDIDATES\n"
   ]
  },
  {
   "cell_type": "markdown",
   "id": "c09f8e07",
   "metadata": {},
   "source": [
    "## 10. Preprocessing decisions (rationale)\n",
    "\n"
   ]
  },
  {
   "cell_type": "markdown",
   "id": "fb3f4ef4",
   "metadata": {},
   "source": [
    "### 10.1 Run the preprocessing pipeline and save files"
   ]
  },
  {
   "cell_type": "code",
   "execution_count": 24,
   "id": "8fb042d0",
   "metadata": {},
   "outputs": [
    {
     "name": "stdout",
     "output_type": "stream",
     "text": [
      "Wrote: /Users/testsolutions/Documents/school/year3/term2/time-series-forecasting/tsf-repo/data/interim/clean.csv\n",
      "Wrote: /Users/testsolutions/Documents/school/year3/term2/time-series-forecasting/tsf-repo/data/interim/clean_meta.json\n",
      "Meta: CleanMeta(n_train_rows=28755, n_test_rows=13148, dropped_train_missing_target=1921, train_time_min='2010-01-02T00:00:00', train_time_max='2013-07-02T03:00:00', test_time_min='2013-07-02T04:00:00', test_time_max='2014-12-31T23:00:00', columns=['No', 'DEWP', 'TEMP', 'PRES', 'Iws', 'Is', 'Ir', 'datetime', 'cbwd_NW', 'cbwd_SE', 'cbwd_cv', 'pm2.5', 'pm2_5', 'hour', 'day_of_week', 'month', 'day_of_year', 'sin_hour', 'cos_hour', 'sin_doy', 'cos_doy', 'split'])\n"
     ]
    },
    {
     "data": {
      "text/html": [
       "<div>\n",
       "<style scoped>\n",
       "    .dataframe tbody tr th:only-of-type {\n",
       "        vertical-align: middle;\n",
       "    }\n",
       "\n",
       "    .dataframe tbody tr th {\n",
       "        vertical-align: top;\n",
       "    }\n",
       "\n",
       "    .dataframe thead th {\n",
       "        text-align: right;\n",
       "    }\n",
       "</style>\n",
       "<table border=\"1\" class=\"dataframe\">\n",
       "  <thead>\n",
       "    <tr style=\"text-align: right;\">\n",
       "      <th></th>\n",
       "      <th>No</th>\n",
       "      <th>DEWP</th>\n",
       "      <th>TEMP</th>\n",
       "      <th>PRES</th>\n",
       "      <th>Iws</th>\n",
       "      <th>Is</th>\n",
       "      <th>Ir</th>\n",
       "      <th>datetime</th>\n",
       "      <th>cbwd_NW</th>\n",
       "      <th>cbwd_SE</th>\n",
       "      <th>...</th>\n",
       "      <th>pm2_5</th>\n",
       "      <th>hour</th>\n",
       "      <th>day_of_week</th>\n",
       "      <th>month</th>\n",
       "      <th>day_of_year</th>\n",
       "      <th>sin_hour</th>\n",
       "      <th>cos_hour</th>\n",
       "      <th>sin_doy</th>\n",
       "      <th>cos_doy</th>\n",
       "      <th>split</th>\n",
       "    </tr>\n",
       "  </thead>\n",
       "  <tbody>\n",
       "    <tr>\n",
       "      <th>0</th>\n",
       "      <td>25</td>\n",
       "      <td>-1.234456</td>\n",
       "      <td>-1.348408</td>\n",
       "      <td>0.345943</td>\n",
       "      <td>-0.441894</td>\n",
       "      <td>-0.069353</td>\n",
       "      <td>-0.137667</td>\n",
       "      <td>2010-01-02 00:00:00</td>\n",
       "      <td>-0.690542</td>\n",
       "      <td>1.366085</td>\n",
       "      <td>...</td>\n",
       "      <td>129.0</td>\n",
       "      <td>0</td>\n",
       "      <td>5</td>\n",
       "      <td>1</td>\n",
       "      <td>2</td>\n",
       "      <td>0.000000</td>\n",
       "      <td>1.000000</td>\n",
       "      <td>0.034328</td>\n",
       "      <td>0.999411</td>\n",
       "      <td>train</td>\n",
       "    </tr>\n",
       "    <tr>\n",
       "      <th>1</th>\n",
       "      <td>26</td>\n",
       "      <td>-1.165172</td>\n",
       "      <td>-1.348408</td>\n",
       "      <td>0.345943</td>\n",
       "      <td>-0.424097</td>\n",
       "      <td>-0.069353</td>\n",
       "      <td>-0.137667</td>\n",
       "      <td>2010-01-02 01:00:00</td>\n",
       "      <td>-0.690542</td>\n",
       "      <td>1.366085</td>\n",
       "      <td>...</td>\n",
       "      <td>148.0</td>\n",
       "      <td>1</td>\n",
       "      <td>5</td>\n",
       "      <td>1</td>\n",
       "      <td>2</td>\n",
       "      <td>0.258819</td>\n",
       "      <td>0.965926</td>\n",
       "      <td>0.034328</td>\n",
       "      <td>0.999411</td>\n",
       "      <td>train</td>\n",
       "    </tr>\n",
       "    <tr>\n",
       "      <th>2</th>\n",
       "      <td>27</td>\n",
       "      <td>-0.888034</td>\n",
       "      <td>-1.430386</td>\n",
       "      <td>0.443328</td>\n",
       "      <td>-0.406301</td>\n",
       "      <td>-0.069353</td>\n",
       "      <td>-0.137667</td>\n",
       "      <td>2010-01-02 02:00:00</td>\n",
       "      <td>-0.690542</td>\n",
       "      <td>1.366085</td>\n",
       "      <td>...</td>\n",
       "      <td>159.0</td>\n",
       "      <td>2</td>\n",
       "      <td>5</td>\n",
       "      <td>1</td>\n",
       "      <td>2</td>\n",
       "      <td>0.500000</td>\n",
       "      <td>0.866025</td>\n",
       "      <td>0.034328</td>\n",
       "      <td>0.999411</td>\n",
       "      <td>train</td>\n",
       "    </tr>\n",
       "    <tr>\n",
       "      <th>3</th>\n",
       "      <td>28</td>\n",
       "      <td>-0.610897</td>\n",
       "      <td>-1.430386</td>\n",
       "      <td>0.540712</td>\n",
       "      <td>-0.370508</td>\n",
       "      <td>1.245803</td>\n",
       "      <td>-0.137667</td>\n",
       "      <td>2010-01-02 03:00:00</td>\n",
       "      <td>-0.690542</td>\n",
       "      <td>1.366085</td>\n",
       "      <td>...</td>\n",
       "      <td>181.0</td>\n",
       "      <td>3</td>\n",
       "      <td>5</td>\n",
       "      <td>1</td>\n",
       "      <td>2</td>\n",
       "      <td>0.707107</td>\n",
       "      <td>0.707107</td>\n",
       "      <td>0.034328</td>\n",
       "      <td>0.999411</td>\n",
       "      <td>train</td>\n",
       "    </tr>\n",
       "    <tr>\n",
       "      <th>4</th>\n",
       "      <td>29</td>\n",
       "      <td>-0.610897</td>\n",
       "      <td>-1.430386</td>\n",
       "      <td>0.540712</td>\n",
       "      <td>-0.352712</td>\n",
       "      <td>2.560959</td>\n",
       "      <td>-0.137667</td>\n",
       "      <td>2010-01-02 04:00:00</td>\n",
       "      <td>-0.690542</td>\n",
       "      <td>1.366085</td>\n",
       "      <td>...</td>\n",
       "      <td>138.0</td>\n",
       "      <td>4</td>\n",
       "      <td>5</td>\n",
       "      <td>1</td>\n",
       "      <td>2</td>\n",
       "      <td>0.866025</td>\n",
       "      <td>0.500000</td>\n",
       "      <td>0.034328</td>\n",
       "      <td>0.999411</td>\n",
       "      <td>train</td>\n",
       "    </tr>\n",
       "  </tbody>\n",
       "</table>\n",
       "<p>5 rows × 22 columns</p>\n",
       "</div>"
      ],
      "text/plain": [
       "   No      DEWP      TEMP      PRES       Iws        Is        Ir  \\\n",
       "0  25 -1.234456 -1.348408  0.345943 -0.441894 -0.069353 -0.137667   \n",
       "1  26 -1.165172 -1.348408  0.345943 -0.424097 -0.069353 -0.137667   \n",
       "2  27 -0.888034 -1.430386  0.443328 -0.406301 -0.069353 -0.137667   \n",
       "3  28 -0.610897 -1.430386  0.540712 -0.370508  1.245803 -0.137667   \n",
       "4  29 -0.610897 -1.430386  0.540712 -0.352712  2.560959 -0.137667   \n",
       "\n",
       "             datetime   cbwd_NW   cbwd_SE  ...  pm2_5  hour  day_of_week  \\\n",
       "0 2010-01-02 00:00:00 -0.690542  1.366085  ...  129.0     0            5   \n",
       "1 2010-01-02 01:00:00 -0.690542  1.366085  ...  148.0     1            5   \n",
       "2 2010-01-02 02:00:00 -0.690542  1.366085  ...  159.0     2            5   \n",
       "3 2010-01-02 03:00:00 -0.690542  1.366085  ...  181.0     3            5   \n",
       "4 2010-01-02 04:00:00 -0.690542  1.366085  ...  138.0     4            5   \n",
       "\n",
       "   month  day_of_year  sin_hour  cos_hour   sin_doy   cos_doy  split  \n",
       "0      1            2  0.000000  1.000000  0.034328  0.999411  train  \n",
       "1      1            2  0.258819  0.965926  0.034328  0.999411  train  \n",
       "2      1            2  0.500000  0.866025  0.034328  0.999411  train  \n",
       "3      1            2  0.707107  0.707107  0.034328  0.999411  train  \n",
       "4      1            2  0.866025  0.500000  0.034328  0.999411  train  \n",
       "\n",
       "[5 rows x 22 columns]"
      ]
     },
     "metadata": {},
     "output_type": "display_data"
    }
   ],
   "source": [
    "train_raw, test_raw, _ = load_raw()\n",
    "interim, meta = build_interim(train_raw, test_raw, save_csv=True)\n",
    "\n",
    "print(\"Wrote:\", DATA_INTERIM / \"clean.csv\")\n",
    "print(\"Wrote:\", DATA_INTERIM / \"clean_meta.json\")\n",
    "print(\"Meta:\", meta)\n",
    "display(interim.head())\n"
   ]
  },
  {
   "cell_type": "markdown",
   "id": "a45acbe9",
   "metadata": {},
   "source": [
    "### 6.2 Quick sanity checks"
   ]
  },
  {
   "cell_type": "code",
   "execution_count": 25,
   "id": "6abf85de",
   "metadata": {},
   "outputs": [
    {
     "name": "stdout",
     "output_type": "stream",
     "text": [
      "Train range: 2010-01-02 00:00:00 → 2013-07-02 03:00:00 | rows: 28755\n",
      "Test  range: 2013-07-02 04:00:00 → 2014-12-31 23:00:00 | rows: 13148\n"
     ]
    }
   ],
   "source": [
    "# 1) No missing target in train split\n",
    "assert interim.query(\"split=='train'\")[\"pm2_5\"].isna().sum() == 0\n",
    "\n",
    "# 2) Datetime monotonicity holds within each split\n",
    "for s in [\"train\", \"test\"]:\n",
    "    dts = interim.loc[interim[\"split\"]==s, \"datetime\"]\n",
    "    assert dts.is_monotonic_increasing and dts.is_unique\n",
    "\n",
    "# 3) Time/cyclic features present\n",
    "for c in [\"hour\",\"day_of_week\",\"month\",\"day_of_year\",\"sin_hour\",\"cos_hour\",\"sin_doy\",\"cos_doy\"]:\n",
    "    assert c in interim.columns, f\"Missing feature {c}\"\n",
    "\n",
    "# 4) Train/test ranges look sensible\n",
    "tr = interim[interim[\"split\"]==\"train\"]\n",
    "te = interim[interim[\"split\"]==\"test\"]\n",
    "print(\"Train range:\", tr[\"datetime\"].min(), \"→\", tr[\"datetime\"].max(), \"| rows:\", len(tr))\n",
    "print(\"Test  range:\", te[\"datetime\"].min(), \"→\", te[\"datetime\"].max(), \"| rows:\", len(te))\n"
   ]
  },
  {
   "cell_type": "markdown",
   "id": "2ca97dad",
   "metadata": {},
   "source": [
    "## 11. Feature list (contract)\n",
    "\n"
   ]
  },
  {
   "cell_type": "code",
   "execution_count": 27,
   "id": "fff1eaf5",
   "metadata": {},
   "outputs": [
    {
     "name": "stdout",
     "output_type": "stream",
     "text": [
      "n_features: 18\n",
      "['No', 'DEWP', 'TEMP', 'PRES', 'Iws', 'Is', 'Ir', 'cbwd_NW', 'cbwd_SE', 'cbwd_cv', 'hour', 'day_of_week', 'month', 'day_of_year', 'sin_hour', 'cos_hour', 'sin_doy', 'cos_doy']\n"
     ]
    }
   ],
   "source": [
    "df_tr = interim.query(\"split=='train'\").copy()\n",
    "EXCLUDE = {\"datetime\", \"split\", \"pm2.5\", \"pm2_5\"}  # exclude targets/time/split\n",
    "feature_cols = [c for c in df_tr.columns if c not in EXCLUDE]\n",
    "print(\"n_features:\", len(feature_cols))\n",
    "print(feature_cols)\n"
   ]
  },
  {
   "cell_type": "code",
   "execution_count": 29,
   "id": "eb30c1ca",
   "metadata": {},
   "outputs": [
    {
     "data": {
      "text/html": [
       "<div>\n",
       "<style scoped>\n",
       "    .dataframe tbody tr th:only-of-type {\n",
       "        vertical-align: middle;\n",
       "    }\n",
       "\n",
       "    .dataframe tbody tr th {\n",
       "        vertical-align: top;\n",
       "    }\n",
       "\n",
       "    .dataframe thead th {\n",
       "        text-align: right;\n",
       "    }\n",
       "</style>\n",
       "<table border=\"1\" class=\"dataframe\">\n",
       "  <thead>\n",
       "    <tr style=\"text-align: right;\">\n",
       "      <th></th>\n",
       "      <th>fold</th>\n",
       "      <th>rmse_naive</th>\n",
       "      <th>rmse_seasonal24</th>\n",
       "      <th>val_rows</th>\n",
       "    </tr>\n",
       "  </thead>\n",
       "  <tbody>\n",
       "    <tr>\n",
       "      <th>0</th>\n",
       "      <td>fold1</td>\n",
       "      <td>23.169255</td>\n",
       "      <td>91.354681</td>\n",
       "      <td>695</td>\n",
       "    </tr>\n",
       "    <tr>\n",
       "      <th>1</th>\n",
       "      <td>fold2</td>\n",
       "      <td>19.757798</td>\n",
       "      <td>69.452671</td>\n",
       "      <td>680</td>\n",
       "    </tr>\n",
       "    <tr>\n",
       "      <th>2</th>\n",
       "      <td>fold3</td>\n",
       "      <td>12.996336</td>\n",
       "      <td>59.615749</td>\n",
       "      <td>693</td>\n",
       "    </tr>\n",
       "  </tbody>\n",
       "</table>\n",
       "</div>"
      ],
      "text/plain": [
       "    fold  rmse_naive  rmse_seasonal24  val_rows\n",
       "0  fold1   23.169255        91.354681       695\n",
       "1  fold2   19.757798        69.452671       680\n",
       "2  fold3   12.996336        59.615749       693"
      ]
     },
     "metadata": {},
     "output_type": "display_data"
    },
    {
     "name": "stdout",
     "output_type": "stream",
     "text": [
      "Wrote /Users/testsolutions/Documents/school/year3/term2/time-series-forecasting/tsf-repo/outputs/baselines_cv.csv\n"
     ]
    }
   ],
   "source": [
    "from src.baselines import evaluate_baselines\n",
    "TARGET = \"pm2_5\"\n",
    "base_df = evaluate_baselines(interim.query(\"split=='train'\"), \"datetime\", TARGET, folds, seasonal_lag=24)\n",
    "display(base_df)\n",
    "\n",
    "# Save for the report\n",
    "from src.config import OUTPUTS\n",
    "OUTPUTS.mkdir(parents=True, exist_ok=True)\n",
    "base_df.to_csv(OUTPUTS / \"baselines_cv.csv\", index=False)\n",
    "print(\"Wrote\", OUTPUTS / \"baselines_cv.csv\")\n"
   ]
  },
  {
   "cell_type": "markdown",
   "id": "8521d25f",
   "metadata": {},
   "source": [
    "## 12. Artifacts to write (clean parquet, metadata)"
   ]
  }
 ],
 "metadata": {
  "kernelspec": {
   "display_name": ".venv",
   "language": "python",
   "name": "python3"
  },
  "language_info": {
   "codemirror_mode": {
    "name": "ipython",
    "version": 3
   },
   "file_extension": ".py",
   "mimetype": "text/x-python",
   "name": "python",
   "nbconvert_exporter": "python",
   "pygments_lexer": "ipython3",
   "version": "3.13.5"
  }
 },
 "nbformat": 4,
 "nbformat_minor": 5
}
