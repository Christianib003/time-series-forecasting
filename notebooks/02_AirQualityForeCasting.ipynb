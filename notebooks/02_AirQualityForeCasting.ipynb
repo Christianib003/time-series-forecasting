{
  "cells": [
    {
      "cell_type": "markdown",
      "metadata": {
        "id": "iTsEYdtov6tp"
      },
      "source": [
        "# Air Quality Forecasting\n",
        "\n",
        "## 1. 1. Setup and Imports\n"
      ]
    },
    {
      "cell_type": "code",
      "execution_count": 1,
      "metadata": {
        "id": "nWkSHhqXrCqF"
      },
      "outputs": [],
      "source": [
        "import sys\n",
        "import pandas as pd\n",
        "import numpy as np\n",
        "import matplotlib.pyplot as plt\n",
        "import seaborn as sns\n",
        "\n",
        "sys.path.append('..')\n",
        "\n",
        "from src.data_utils import *\n",
        "from src.model_utils import *\n",
        "\n",
        "sns.set_style('whitegrid')"
      ]
    },
    {
      "cell_type": "markdown",
      "metadata": {},
      "source": [
        "## 2. Data Preparation Pipeline\n"
      ]
    },
    {
      "cell_type": "code",
      "execution_count": 2,
      "metadata": {
        "colab": {
          "base_uri": "https://localhost:8080/"
        },
        "id": "y_C4HV99rHd5",
        "outputId": "e8b4a359-23e7-4e5a-84e9-e4d3a4d54e94"
      },
      "outputs": [
        {
          "name": "stdout",
          "output_type": "stream",
          "text": [
            "✅ Data loaded successfully.\n",
            "✅ Missing values handled.\n",
            "✅ Time-based features created.\n",
            "✅ Data split into training and validation sets.\n",
            "✅ Features scaled using StandardScaler.\n"
          ]
        },
        {
          "name": "stderr",
          "output_type": "stream",
          "text": [
            "/Users/testsolutions/Documents/school/year3/term2/time-series-forecasting/tsf-repo/notebooks/../src/data_utils.py:12: FutureWarning: DataFrame.fillna with 'method' is deprecated and will raise in a future version. Use obj.ffill() or obj.bfill() instead.\n",
            "  df = df.fillna(method='ffill').fillna(method='bfill')\n",
            "/Users/testsolutions/Documents/school/year3/term2/time-series-forecasting/tsf-repo/notebooks/../src/data_utils.py:41: FutureWarning: Setting an item of incompatible dtype is deprecated and will raise in a future error of pandas. Value '[-1.66087503 -1.51641739 -1.37195975 ... -0.64967155 -0.50521392\n",
            " -0.36075628]' has dtype incompatible with int32, please explicitly cast to a compatible dtype first.\n",
            "  train_df.loc[:, columns_to_scale] = scaler.fit_transform(train_df[columns_to_scale])\n",
            "/Users/testsolutions/Documents/school/year3/term2/time-series-forecasting/tsf-repo/notebooks/../src/data_utils.py:41: FutureWarning: Setting an item of incompatible dtype is deprecated and will raise in a future error of pandas. Value '[0.49932881 0.49932881 0.49932881 ... 0.99950166 0.99950166 0.99950166]' has dtype incompatible with int32, please explicitly cast to a compatible dtype first.\n",
            "  train_df.loc[:, columns_to_scale] = scaler.fit_transform(train_df[columns_to_scale])\n",
            "/Users/testsolutions/Documents/school/year3/term2/time-series-forecasting/tsf-repo/notebooks/../src/data_utils.py:41: FutureWarning: Setting an item of incompatible dtype is deprecated and will raise in a future error of pandas. Value '[-1.59793614 -1.59793614 -1.59793614 ...  1.61336486  1.61336486\n",
            "  1.61336486]' has dtype incompatible with int32, please explicitly cast to a compatible dtype first.\n",
            "  train_df.loc[:, columns_to_scale] = scaler.fit_transform(train_df[columns_to_scale])\n",
            "/Users/testsolutions/Documents/school/year3/term2/time-series-forecasting/tsf-repo/notebooks/../src/data_utils.py:47: FutureWarning: Setting an item of incompatible dtype is deprecated and will raise in a future error of pandas. Value '[-0.21629864 -0.071841    0.07261664 ... -1.51641739 -1.37195975\n",
            " -1.22750211]' has dtype incompatible with int32, please explicitly cast to a compatible dtype first.\n",
            "  val_df.loc[:, columns_to_scale] = scaler.transform(val_df[columns_to_scale])\n",
            "/Users/testsolutions/Documents/school/year3/term2/time-series-forecasting/tsf-repo/notebooks/../src/data_utils.py:47: FutureWarning: Setting an item of incompatible dtype is deprecated and will raise in a future error of pandas. Value '[ 0.99950166  0.99950166  0.99950166 ... -1.00118975 -1.00118975\n",
            " -1.00118975]' has dtype incompatible with int32, please explicitly cast to a compatible dtype first.\n",
            "  val_df.loc[:, columns_to_scale] = scaler.transform(val_df[columns_to_scale])\n",
            "/Users/testsolutions/Documents/school/year3/term2/time-series-forecasting/tsf-repo/notebooks/../src/data_utils.py:47: FutureWarning: Setting an item of incompatible dtype is deprecated and will raise in a future error of pandas. Value '[1.61336486 1.61336486 1.61336486 ... 0.15368259 0.15368259 0.15368259]' has dtype incompatible with int32, please explicitly cast to a compatible dtype first.\n",
            "  val_df.loc[:, columns_to_scale] = scaler.transform(val_df[columns_to_scale])\n"
          ]
        }
      ],
      "source": [
        "# Load and clean the raw data\n",
        "df = load_data('../data/train.csv')\n",
        "df = handle_missing_values(df)\n",
        "\n",
        "# Create time-based features\n",
        "df = create_time_features(df)\n",
        "\n",
        "# Split into training and validation sets\n",
        "df_train, df_val = split_data(df)\n",
        "\n",
        "# Define features to scale and apply the StandardScaler\n",
        "features_to_scale = ['pm2.5', 'DEWP', 'TEMP', 'PRES', 'Iws', 'Is', 'Ir', 'hour', 'day_of_week', 'month']\n",
        "df_train_scaled, df_val_scaled, scaler = scale_features(\n",
        "    train_df=df_train.copy(), \n",
        "    val_df=df_val.copy(), \n",
        "    columns_to_scale=features_to_scale,\n",
        "    scaler_type='standard' # <-- The key change for this experiment\n",
        ")"
      ]
    },
    {
      "cell_type": "markdown",
      "metadata": {},
      "source": [
        "## 3. Create Model Sequences\n",
        "We transform the processed dataframes into the sequence format required by the LSTM model."
      ]
    },
    {
      "cell_type": "code",
      "execution_count": 3,
      "metadata": {
        "id": "gxW-6b_jrLAL"
      },
      "outputs": [
        {
          "name": "stdout",
          "output_type": "stream",
          "text": [
            "\n",
            "✅ Sequences created: X_train shape is (26050, 24, 13)\n"
          ]
        }
      ],
      "source": [
        "N_PAST = 24\n",
        "TARGET_COL = 'pm2.5'\n",
        "target_col_idx = df_train_scaled.columns.get_loc(TARGET_COL)\n",
        "\n",
        "X_train, y_train = create_sequences(df_train_scaled.values, N_PAST, target_col_idx)\n",
        "X_val, y_val = create_sequences(df_val_scaled.values, N_PAST, target_col_idx)\n",
        "\n",
        "print(f\"\\n✅ Sequences created: X_train shape is {X_train.shape}\")"
      ]
    },
    {
      "cell_type": "markdown",
      "metadata": {},
      "source": [
        "## 4. Build and Train Model\n"
      ]
    },
    {
      "cell_type": "code",
      "execution_count": 4,
      "metadata": {},
      "outputs": [
        {
          "name": "stderr",
          "output_type": "stream",
          "text": [
            "/Users/testsolutions/Documents/school/year3/term2/time-series-forecasting/tsf-repo/.venv/lib/python3.13/site-packages/keras/src/layers/rnn/rnn.py:199: UserWarning: Do not pass an `input_shape`/`input_dim` argument to a layer. When using Sequential models, prefer using an `Input(shape)` object as the first layer in the model instead.\n",
            "  super().__init__(**kwargs)\n"
          ]
        },
        {
          "data": {
            "text/html": [
              "<pre style=\"white-space:pre;overflow-x:auto;line-height:normal;font-family:Menlo,'DejaVu Sans Mono',consolas,'Courier New',monospace\"><span style=\"font-weight: bold\">Model: \"sequential\"</span>\n",
              "</pre>\n"
            ],
            "text/plain": [
              "\u001b[1mModel: \"sequential\"\u001b[0m\n"
            ]
          },
          "metadata": {},
          "output_type": "display_data"
        },
        {
          "data": {
            "text/html": [
              "<pre style=\"white-space:pre;overflow-x:auto;line-height:normal;font-family:Menlo,'DejaVu Sans Mono',consolas,'Courier New',monospace\">┏━━━━━━━━━━━━━━━━━━━━━━━━━━━━━━━━━┳━━━━━━━━━━━━━━━━━━━━━━━━┳━━━━━━━━━━━━━━━┓\n",
              "┃<span style=\"font-weight: bold\"> Layer (type)                    </span>┃<span style=\"font-weight: bold\"> Output Shape           </span>┃<span style=\"font-weight: bold\">       Param # </span>┃\n",
              "┡━━━━━━━━━━━━━━━━━━━━━━━━━━━━━━━━━╇━━━━━━━━━━━━━━━━━━━━━━━━╇━━━━━━━━━━━━━━━┩\n",
              "│ lstm (<span style=\"color: #0087ff; text-decoration-color: #0087ff\">LSTM</span>)                     │ (<span style=\"color: #00d7ff; text-decoration-color: #00d7ff\">None</span>, <span style=\"color: #00af00; text-decoration-color: #00af00\">32</span>)             │         <span style=\"color: #00af00; text-decoration-color: #00af00\">5,888</span> │\n",
              "├─────────────────────────────────┼────────────────────────┼───────────────┤\n",
              "│ dense (<span style=\"color: #0087ff; text-decoration-color: #0087ff\">Dense</span>)                   │ (<span style=\"color: #00d7ff; text-decoration-color: #00d7ff\">None</span>, <span style=\"color: #00af00; text-decoration-color: #00af00\">1</span>)              │            <span style=\"color: #00af00; text-decoration-color: #00af00\">33</span> │\n",
              "└─────────────────────────────────┴────────────────────────┴───────────────┘\n",
              "</pre>\n"
            ],
            "text/plain": [
              "┏━━━━━━━━━━━━━━━━━━━━━━━━━━━━━━━━━┳━━━━━━━━━━━━━━━━━━━━━━━━┳━━━━━━━━━━━━━━━┓\n",
              "┃\u001b[1m \u001b[0m\u001b[1mLayer (type)                   \u001b[0m\u001b[1m \u001b[0m┃\u001b[1m \u001b[0m\u001b[1mOutput Shape          \u001b[0m\u001b[1m \u001b[0m┃\u001b[1m \u001b[0m\u001b[1m      Param #\u001b[0m\u001b[1m \u001b[0m┃\n",
              "┡━━━━━━━━━━━━━━━━━━━━━━━━━━━━━━━━━╇━━━━━━━━━━━━━━━━━━━━━━━━╇━━━━━━━━━━━━━━━┩\n",
              "│ lstm (\u001b[38;5;33mLSTM\u001b[0m)                     │ (\u001b[38;5;45mNone\u001b[0m, \u001b[38;5;34m32\u001b[0m)             │         \u001b[38;5;34m5,888\u001b[0m │\n",
              "├─────────────────────────────────┼────────────────────────┼───────────────┤\n",
              "│ dense (\u001b[38;5;33mDense\u001b[0m)                   │ (\u001b[38;5;45mNone\u001b[0m, \u001b[38;5;34m1\u001b[0m)              │            \u001b[38;5;34m33\u001b[0m │\n",
              "└─────────────────────────────────┴────────────────────────┴───────────────┘\n"
            ]
          },
          "metadata": {},
          "output_type": "display_data"
        },
        {
          "data": {
            "text/html": [
              "<pre style=\"white-space:pre;overflow-x:auto;line-height:normal;font-family:Menlo,'DejaVu Sans Mono',consolas,'Courier New',monospace\"><span style=\"font-weight: bold\"> Total params: </span><span style=\"color: #00af00; text-decoration-color: #00af00\">5,921</span> (23.13 KB)\n",
              "</pre>\n"
            ],
            "text/plain": [
              "\u001b[1m Total params: \u001b[0m\u001b[38;5;34m5,921\u001b[0m (23.13 KB)\n"
            ]
          },
          "metadata": {},
          "output_type": "display_data"
        },
        {
          "data": {
            "text/html": [
              "<pre style=\"white-space:pre;overflow-x:auto;line-height:normal;font-family:Menlo,'DejaVu Sans Mono',consolas,'Courier New',monospace\"><span style=\"font-weight: bold\"> Trainable params: </span><span style=\"color: #00af00; text-decoration-color: #00af00\">5,921</span> (23.13 KB)\n",
              "</pre>\n"
            ],
            "text/plain": [
              "\u001b[1m Trainable params: \u001b[0m\u001b[38;5;34m5,921\u001b[0m (23.13 KB)\n"
            ]
          },
          "metadata": {},
          "output_type": "display_data"
        },
        {
          "data": {
            "text/html": [
              "<pre style=\"white-space:pre;overflow-x:auto;line-height:normal;font-family:Menlo,'DejaVu Sans Mono',consolas,'Courier New',monospace\"><span style=\"font-weight: bold\"> Non-trainable params: </span><span style=\"color: #00af00; text-decoration-color: #00af00\">0</span> (0.00 B)\n",
              "</pre>\n"
            ],
            "text/plain": [
              "\u001b[1m Non-trainable params: \u001b[0m\u001b[38;5;34m0\u001b[0m (0.00 B)\n"
            ]
          },
          "metadata": {},
          "output_type": "display_data"
        },
        {
          "name": "stdout",
          "output_type": "stream",
          "text": [
            "Epoch 1/50\n",
            "\u001b[1m802/815\u001b[0m \u001b[32m━━━━━━━━━━━━━━━━━━━\u001b[0m\u001b[37m━\u001b[0m \u001b[1m0s\u001b[0m 2ms/step - loss: 0.3314\n",
            "Epoch 1: val_loss improved from None to 0.10597, saving model to ../experiments/models/02_standardscaler_lstm.keras\n",
            "\u001b[1m815/815\u001b[0m \u001b[32m━━━━━━━━━━━━━━━━━━━━\u001b[0m\u001b[37m\u001b[0m \u001b[1m3s\u001b[0m 2ms/step - loss: 0.1720 - val_loss: 0.1060\n",
            "Epoch 2/50\n",
            "\u001b[1m792/815\u001b[0m \u001b[32m━━━━━━━━━━━━━━━━━━━\u001b[0m\u001b[37m━\u001b[0m \u001b[1m0s\u001b[0m 2ms/step - loss: 0.0677\n",
            "Epoch 2: val_loss improved from 0.10597 to 0.10572, saving model to ../experiments/models/02_standardscaler_lstm.keras\n",
            "\u001b[1m815/815\u001b[0m \u001b[32m━━━━━━━━━━━━━━━━━━━━\u001b[0m\u001b[37m\u001b[0m \u001b[1m2s\u001b[0m 2ms/step - loss: 0.0721 - val_loss: 0.1057\n",
            "Epoch 3/50\n",
            "\u001b[1m793/815\u001b[0m \u001b[32m━━━━━━━━━━━━━━━━━━━\u001b[0m\u001b[37m━\u001b[0m \u001b[1m0s\u001b[0m 2ms/step - loss: 0.0689\n",
            "Epoch 3: val_loss improved from 0.10572 to 0.10151, saving model to ../experiments/models/02_standardscaler_lstm.keras\n",
            "\u001b[1m815/815\u001b[0m \u001b[32m━━━━━━━━━━━━━━━━━━━━\u001b[0m\u001b[37m\u001b[0m \u001b[1m2s\u001b[0m 2ms/step - loss: 0.0685 - val_loss: 0.1015\n",
            "Epoch 4/50\n",
            "\u001b[1m799/815\u001b[0m \u001b[32m━━━━━━━━━━━━━━━━━━━\u001b[0m\u001b[37m━\u001b[0m \u001b[1m0s\u001b[0m 2ms/step - loss: 0.0664\n",
            "Epoch 4: val_loss did not improve from 0.10151\n",
            "\u001b[1m815/815\u001b[0m \u001b[32m━━━━━━━━━━━━━━━━━━━━\u001b[0m\u001b[37m\u001b[0m \u001b[1m2s\u001b[0m 2ms/step - loss: 0.0671 - val_loss: 0.1020\n",
            "Epoch 5/50\n",
            "\u001b[1m805/815\u001b[0m \u001b[32m━━━━━━━━━━━━━━━━━━━\u001b[0m\u001b[37m━\u001b[0m \u001b[1m0s\u001b[0m 2ms/step - loss: 0.0801\n",
            "Epoch 5: val_loss improved from 0.10151 to 0.09735, saving model to ../experiments/models/02_standardscaler_lstm.keras\n",
            "\u001b[1m815/815\u001b[0m \u001b[32m━━━━━━━━━━━━━━━━━━━━\u001b[0m\u001b[37m\u001b[0m \u001b[1m2s\u001b[0m 2ms/step - loss: 0.0660 - val_loss: 0.0973\n",
            "Epoch 6/50\n",
            "\u001b[1m792/815\u001b[0m \u001b[32m━━━━━━━━━━━━━━━━━━━\u001b[0m\u001b[37m━\u001b[0m \u001b[1m0s\u001b[0m 2ms/step - loss: 0.0616\n",
            "Epoch 6: val_loss did not improve from 0.09735\n",
            "\u001b[1m815/815\u001b[0m \u001b[32m━━━━━━━━━━━━━━━━━━━━\u001b[0m\u001b[37m\u001b[0m \u001b[1m2s\u001b[0m 2ms/step - loss: 0.0649 - val_loss: 0.0981\n",
            "Epoch 7/50\n",
            "\u001b[1m808/815\u001b[0m \u001b[32m━━━━━━━━━━━━━━━━━━━\u001b[0m\u001b[37m━\u001b[0m \u001b[1m0s\u001b[0m 2ms/step - loss: 0.0633\n",
            "Epoch 7: val_loss did not improve from 0.09735\n",
            "\u001b[1m815/815\u001b[0m \u001b[32m━━━━━━━━━━━━━━━━━━━━\u001b[0m\u001b[37m\u001b[0m \u001b[1m2s\u001b[0m 2ms/step - loss: 0.0642 - val_loss: 0.1003\n",
            "Epoch 8/50\n",
            "\u001b[1m799/815\u001b[0m \u001b[32m━━━━━━━━━━━━━━━━━━━\u001b[0m\u001b[37m━\u001b[0m \u001b[1m0s\u001b[0m 2ms/step - loss: 0.0648\n",
            "Epoch 8: val_loss did not improve from 0.09735\n",
            "\u001b[1m815/815\u001b[0m \u001b[32m━━━━━━━━━━━━━━━━━━━━\u001b[0m\u001b[37m\u001b[0m \u001b[1m2s\u001b[0m 2ms/step - loss: 0.0633 - val_loss: 0.1014\n",
            "Epoch 9/50\n",
            "\u001b[1m812/815\u001b[0m \u001b[32m━━━━━━━━━━━━━━━━━━━\u001b[0m\u001b[37m━\u001b[0m \u001b[1m0s\u001b[0m 2ms/step - loss: 0.0640\n",
            "Epoch 9: val_loss did not improve from 0.09735\n",
            "\u001b[1m815/815\u001b[0m \u001b[32m━━━━━━━━━━━━━━━━━━━━\u001b[0m\u001b[37m\u001b[0m \u001b[1m2s\u001b[0m 2ms/step - loss: 0.0628 - val_loss: 0.0982\n",
            "Epoch 10/50\n",
            "\u001b[1m804/815\u001b[0m \u001b[32m━━━━━━━━━━━━━━━━━━━\u001b[0m\u001b[37m━\u001b[0m \u001b[1m0s\u001b[0m 2ms/step - loss: 0.0655\n",
            "Epoch 10: val_loss improved from 0.09735 to 0.09570, saving model to ../experiments/models/02_standardscaler_lstm.keras\n",
            "\u001b[1m815/815\u001b[0m \u001b[32m━━━━━━━━━━━━━━━━━━━━\u001b[0m\u001b[37m\u001b[0m \u001b[1m2s\u001b[0m 2ms/step - loss: 0.0625 - val_loss: 0.0957\n",
            "Epoch 11/50\n",
            "\u001b[1m796/815\u001b[0m \u001b[32m━━━━━━━━━━━━━━━━━━━\u001b[0m\u001b[37m━\u001b[0m \u001b[1m0s\u001b[0m 2ms/step - loss: 0.0617\n",
            "Epoch 11: val_loss did not improve from 0.09570\n",
            "\u001b[1m815/815\u001b[0m \u001b[32m━━━━━━━━━━━━━━━━━━━━\u001b[0m\u001b[37m\u001b[0m \u001b[1m2s\u001b[0m 2ms/step - loss: 0.0623 - val_loss: 0.0962\n",
            "Epoch 12/50\n",
            "\u001b[1m804/815\u001b[0m \u001b[32m━━━━━━━━━━━━━━━━━━━\u001b[0m\u001b[37m━\u001b[0m \u001b[1m0s\u001b[0m 2ms/step - loss: 0.0604\n",
            "Epoch 12: val_loss did not improve from 0.09570\n",
            "\u001b[1m815/815\u001b[0m \u001b[32m━━━━━━━━━━━━━━━━━━━━\u001b[0m\u001b[37m\u001b[0m \u001b[1m2s\u001b[0m 2ms/step - loss: 0.0618 - val_loss: 0.0985\n",
            "Epoch 13/50\n",
            "\u001b[1m805/815\u001b[0m \u001b[32m━━━━━━━━━━━━━━━━━━━\u001b[0m\u001b[37m━\u001b[0m \u001b[1m0s\u001b[0m 2ms/step - loss: 0.0594\n",
            "Epoch 13: val_loss improved from 0.09570 to 0.09482, saving model to ../experiments/models/02_standardscaler_lstm.keras\n",
            "\u001b[1m815/815\u001b[0m \u001b[32m━━━━━━━━━━━━━━━━━━━━\u001b[0m\u001b[37m\u001b[0m \u001b[1m2s\u001b[0m 2ms/step - loss: 0.0612 - val_loss: 0.0948\n",
            "Epoch 14/50\n",
            "\u001b[1m795/815\u001b[0m \u001b[32m━━━━━━━━━━━━━━━━━━━\u001b[0m\u001b[37m━\u001b[0m \u001b[1m0s\u001b[0m 2ms/step - loss: 0.0562\n",
            "Epoch 14: val_loss did not improve from 0.09482\n",
            "\u001b[1m815/815\u001b[0m \u001b[32m━━━━━━━━━━━━━━━━━━━━\u001b[0m\u001b[37m\u001b[0m \u001b[1m2s\u001b[0m 2ms/step - loss: 0.0606 - val_loss: 0.0992\n",
            "Epoch 15/50\n",
            "\u001b[1m803/815\u001b[0m \u001b[32m━━━━━━━━━━━━━━━━━━━\u001b[0m\u001b[37m━\u001b[0m \u001b[1m0s\u001b[0m 2ms/step - loss: 0.0603\n",
            "Epoch 15: val_loss did not improve from 0.09482\n",
            "\u001b[1m815/815\u001b[0m \u001b[32m━━━━━━━━━━━━━━━━━━━━\u001b[0m\u001b[37m\u001b[0m \u001b[1m2s\u001b[0m 2ms/step - loss: 0.0598 - val_loss: 0.0959\n",
            "Epoch 16/50\n",
            "\u001b[1m793/815\u001b[0m \u001b[32m━━━━━━━━━━━━━━━━━━━\u001b[0m\u001b[37m━\u001b[0m \u001b[1m0s\u001b[0m 2ms/step - loss: 0.0615\n",
            "Epoch 16: val_loss did not improve from 0.09482\n",
            "\u001b[1m815/815\u001b[0m \u001b[32m━━━━━━━━━━━━━━━━━━━━\u001b[0m\u001b[37m\u001b[0m \u001b[1m2s\u001b[0m 2ms/step - loss: 0.0592 - val_loss: 0.1053\n",
            "Epoch 17/50\n",
            "\u001b[1m805/815\u001b[0m \u001b[32m━━━━━━━━━━━━━━━━━━━\u001b[0m\u001b[37m━\u001b[0m \u001b[1m0s\u001b[0m 2ms/step - loss: 0.0633\n",
            "Epoch 17: val_loss did not improve from 0.09482\n",
            "\u001b[1m815/815\u001b[0m \u001b[32m━━━━━━━━━━━━━━━━━━━━\u001b[0m\u001b[37m\u001b[0m \u001b[1m2s\u001b[0m 2ms/step - loss: 0.0596 - val_loss: 0.0984\n",
            "Epoch 18/50\n",
            "\u001b[1m806/815\u001b[0m \u001b[32m━━━━━━━━━━━━━━━━━━━\u001b[0m\u001b[37m━\u001b[0m \u001b[1m0s\u001b[0m 2ms/step - loss: 0.0559\n",
            "Epoch 18: val_loss did not improve from 0.09482\n",
            "\u001b[1m815/815\u001b[0m \u001b[32m━━━━━━━━━━━━━━━━━━━━\u001b[0m\u001b[37m\u001b[0m \u001b[1m2s\u001b[0m 2ms/step - loss: 0.0582 - val_loss: 0.0996\n"
          ]
        }
      ],
      "source": [
        "EXP_ID = '02'\n",
        "MODEL_TYPE = 'LSTM'\n",
        "SCALER_TYPE = 'StandardScaler'\n",
        "BATCH_SIZE = 32\n",
        "MODEL_PATH = f'../experiments/models/{EXP_ID}_{SCALER_TYPE.lower()}_{MODEL_TYPE.lower()}.keras'\n",
        "\n",
        "input_shape = (X_train.shape[1], X_train.shape[2])\n",
        "model = build_model(input_shape, model_type=MODEL_TYPE, units=32)\n",
        "model.summary()\n",
        "\n",
        "history = train_model(model, X_train, y_train, X_val, y_val, MODEL_PATH, batch_size=BATCH_SIZE)"
      ]
    },
    {
      "cell_type": "markdown",
      "metadata": {},
      "source": [
        "## 5. Evaluate Model Performance\n"
      ]
    },
    {
      "cell_type": "code",
      "execution_count": 5,
      "metadata": {},
      "outputs": [
        {
          "data": {
            "image/png": "[encoded data removed]",
            "text/plain": [
              "<Figure size 1000x600 with 1 Axes>"
            ]
          },
          "metadata": {},
          "output_type": "display_data"
        },
        {
          "name": "stdout",
          "output_type": "stream",
          "text": [
            "\u001b[1m144/144\u001b[0m \u001b[32m━━━━━━━━━━━━━━━━━━━━\u001b[0m\u001b[37m\u001b[0m \u001b[1m0s\u001b[0m 1ms/step\n",
            "--- Model Evaluation ---\n",
            "✅ Final Validation RMSE: 0.31\n"
          ]
        }
      ],
      "source": [
        "# Evaluate the final model by plotting its history and calculating RMSE\n",
        "final_rmse = evaluate_model(history, model, X_val, y_val)"
      ]
    },
    {
      "cell_type": "markdown",
      "metadata": {},
      "source": [
        "## 6. Log Experiment and Generate Submission\n"
      ]
    },
    {
      "cell_type": "code",
      "execution_count": 6,
      "metadata": {},
      "outputs": [
        {
          "data": {
            "text/html": [
              "<pre style=\"white-space:pre;overflow-x:auto;line-height:normal;font-family:Menlo,'DejaVu Sans Mono',consolas,'Courier New',monospace\"><span style=\"font-weight: bold\">Model: \"sequential\"</span>\n",
              "</pre>\n"
            ],
            "text/plain": [
              "\u001b[1mModel: \"sequential\"\u001b[0m\n"
            ]
          },
          "metadata": {},
          "output_type": "display_data"
        },
        {
          "data": {
            "text/html": [
              "<pre style=\"white-space:pre;overflow-x:auto;line-height:normal;font-family:Menlo,'DejaVu Sans Mono',consolas,'Courier New',monospace\">┏━━━━━━━━━━━━━━━━━━━━━━━━━━━━━━━━━┳━━━━━━━━━━━━━━━━━━━━━━━━┳━━━━━━━━━━━━━━━┓\n",
              "┃<span style=\"font-weight: bold\"> Layer (type)                    </span>┃<span style=\"font-weight: bold\"> Output Shape           </span>┃<span style=\"font-weight: bold\">       Param # </span>┃\n",
              "┡━━━━━━━━━━━━━━━━━━━━━━━━━━━━━━━━━╇━━━━━━━━━━━━━━━━━━━━━━━━╇━━━━━━━━━━━━━━━┩\n",
              "│ lstm (<span style=\"color: #0087ff; text-decoration-color: #0087ff\">LSTM</span>)                     │ (<span style=\"color: #00d7ff; text-decoration-color: #00d7ff\">None</span>, <span style=\"color: #00af00; text-decoration-color: #00af00\">32</span>)             │         <span style=\"color: #00af00; text-decoration-color: #00af00\">5,888</span> │\n",
              "├─────────────────────────────────┼────────────────────────┼───────────────┤\n",
              "│ dense (<span style=\"color: #0087ff; text-decoration-color: #0087ff\">Dense</span>)                   │ (<span style=\"color: #00d7ff; text-decoration-color: #00d7ff\">None</span>, <span style=\"color: #00af00; text-decoration-color: #00af00\">1</span>)              │            <span style=\"color: #00af00; text-decoration-color: #00af00\">33</span> │\n",
              "└─────────────────────────────────┴────────────────────────┴───────────────┘\n",
              "</pre>\n"
            ],
            "text/plain": [
              "┏━━━━━━━━━━━━━━━━━━━━━━━━━━━━━━━━━┳━━━━━━━━━━━━━━━━━━━━━━━━┳━━━━━━━━━━━━━━━┓\n",
              "┃\u001b[1m \u001b[0m\u001b[1mLayer (type)                   \u001b[0m\u001b[1m \u001b[0m┃\u001b[1m \u001b[0m\u001b[1mOutput Shape          \u001b[0m\u001b[1m \u001b[0m┃\u001b[1m \u001b[0m\u001b[1m      Param #\u001b[0m\u001b[1m \u001b[0m┃\n",
              "┡━━━━━━━━━━━━━━━━━━━━━━━━━━━━━━━━━╇━━━━━━━━━━━━━━━━━━━━━━━━╇━━━━━━━━━━━━━━━┩\n",
              "│ lstm (\u001b[38;5;33mLSTM\u001b[0m)                     │ (\u001b[38;5;45mNone\u001b[0m, \u001b[38;5;34m32\u001b[0m)             │         \u001b[38;5;34m5,888\u001b[0m │\n",
              "├─────────────────────────────────┼────────────────────────┼───────────────┤\n",
              "│ dense (\u001b[38;5;33mDense\u001b[0m)                   │ (\u001b[38;5;45mNone\u001b[0m, \u001b[38;5;34m1\u001b[0m)              │            \u001b[38;5;34m33\u001b[0m │\n",
              "└─────────────────────────────────┴────────────────────────┴───────────────┘\n"
            ]
          },
          "metadata": {},
          "output_type": "display_data"
        },
        {
          "data": {
            "text/html": [
              "<pre style=\"white-space:pre;overflow-x:auto;line-height:normal;font-family:Menlo,'DejaVu Sans Mono',consolas,'Courier New',monospace\"><span style=\"font-weight: bold\"> Total params: </span><span style=\"color: #00af00; text-decoration-color: #00af00\">17,765</span> (69.40 KB)\n",
              "</pre>\n"
            ],
            "text/plain": [
              "\u001b[1m Total params: \u001b[0m\u001b[38;5;34m17,765\u001b[0m (69.40 KB)\n"
            ]
          },
          "metadata": {},
          "output_type": "display_data"
        },
        {
          "data": {
            "text/html": [
              "<pre style=\"white-space:pre;overflow-x:auto;line-height:normal;font-family:Menlo,'DejaVu Sans Mono',consolas,'Courier New',monospace\"><span style=\"font-weight: bold\"> Trainable params: </span><span style=\"color: #00af00; text-decoration-color: #00af00\">5,921</span> (23.13 KB)\n",
              "</pre>\n"
            ],
            "text/plain": [
              "\u001b[1m Trainable params: \u001b[0m\u001b[38;5;34m5,921\u001b[0m (23.13 KB)\n"
            ]
          },
          "metadata": {},
          "output_type": "display_data"
        },
        {
          "data": {
            "text/html": [
              "<pre style=\"white-space:pre;overflow-x:auto;line-height:normal;font-family:Menlo,'DejaVu Sans Mono',consolas,'Courier New',monospace\"><span style=\"font-weight: bold\"> Non-trainable params: </span><span style=\"color: #00af00; text-decoration-color: #00af00\">0</span> (0.00 B)\n",
              "</pre>\n"
            ],
            "text/plain": [
              "\u001b[1m Non-trainable params: \u001b[0m\u001b[38;5;34m0\u001b[0m (0.00 B)\n"
            ]
          },
          "metadata": {},
          "output_type": "display_data"
        },
        {
          "data": {
            "text/html": [
              "<pre style=\"white-space:pre;overflow-x:auto;line-height:normal;font-family:Menlo,'DejaVu Sans Mono',consolas,'Courier New',monospace\"><span style=\"font-weight: bold\"> Optimizer params: </span><span style=\"color: #00af00; text-decoration-color: #00af00\">11,844</span> (46.27 KB)\n",
              "</pre>\n"
            ],
            "text/plain": [
              "\u001b[1m Optimizer params: \u001b[0m\u001b[38;5;34m11,844\u001b[0m (46.27 KB)\n"
            ]
          },
          "metadata": {},
          "output_type": "display_data"
        },
        {
          "name": "stdout",
          "output_type": "stream",
          "text": [
            "✅ Comprehensive experiment details logged to: ../experiments/metrics/02_standardscaler_lstm_log.txt\n",
            "✅ Data loaded successfully.\n",
            "✅ Missing values handled.\n",
            "✅ Time-based features created.\n",
            "✅ Features scaled using StandardScaler.\n",
            "\u001b[1m 90/411\u001b[0m \u001b[32m━━━━\u001b[0m\u001b[37m━━━━━━━━━━━━━━━━\u001b[0m \u001b[1m0s\u001b[0m 567us/step"
          ]
        },
        {
          "name": "stderr",
          "output_type": "stream",
          "text": [
            "/Users/testsolutions/Documents/school/year3/term2/time-series-forecasting/tsf-repo/notebooks/../src/data_utils.py:12: FutureWarning: DataFrame.fillna with 'method' is deprecated and will raise in a future version. Use obj.ffill() or obj.bfill() instead.\n",
            "  df = df.fillna(method='ffill').fillna(method='bfill')\n",
            "/Users/testsolutions/Documents/school/year3/term2/time-series-forecasting/tsf-repo/notebooks/../src/data_utils.py:44: FutureWarning: Setting an item of incompatible dtype is deprecated and will raise in a future error of pandas. Value '[-1.10005871 -1.10005871 -1.10005871 ... -1.10005871 -1.10005871\n",
            " -1.10005871]' has dtype incompatible with int64, please explicitly cast to a compatible dtype first.\n",
            "  train_df.loc[:, columns_to_scale] = scaler.transform(train_df[columns_to_scale])\n",
            "/Users/testsolutions/Documents/school/year3/term2/time-series-forecasting/tsf-repo/notebooks/../src/data_utils.py:44: FutureWarning: Setting an item of incompatible dtype is deprecated and will raise in a future error of pandas. Value '[-1.08304447 -0.93858683 -0.79412919 ...  1.37273539  1.51719303\n",
            "  1.66165067]' has dtype incompatible with int32, please explicitly cast to a compatible dtype first.\n",
            "  train_df.loc[:, columns_to_scale] = scaler.transform(train_df[columns_to_scale])\n",
            "/Users/testsolutions/Documents/school/year3/term2/time-series-forecasting/tsf-repo/notebooks/../src/data_utils.py:44: FutureWarning: Setting an item of incompatible dtype is deprecated and will raise in a future error of pandas. Value '[-1.00118975 -1.00118975 -1.00118975 ... -0.5010169  -0.5010169\n",
            " -0.5010169 ]' has dtype incompatible with int32, please explicitly cast to a compatible dtype first.\n",
            "  train_df.loc[:, columns_to_scale] = scaler.transform(train_df[columns_to_scale])\n",
            "/Users/testsolutions/Documents/school/year3/term2/time-series-forecasting/tsf-repo/notebooks/../src/data_utils.py:44: FutureWarning: Setting an item of incompatible dtype is deprecated and will raise in a future error of pandas. Value '[0.15368259 0.15368259 0.15368259 ... 1.61336486 1.61336486 1.61336486]' has dtype incompatible with int32, please explicitly cast to a compatible dtype first.\n",
            "  train_df.loc[:, columns_to_scale] = scaler.transform(train_df[columns_to_scale])\n",
            "/Users/testsolutions/Documents/school/year3/term2/time-series-forecasting/tsf-repo/notebooks/../src/data_utils.py:47: FutureWarning: Setting an item of incompatible dtype is deprecated and will raise in a future error of pandas. Value '[-1.10005871 -1.10005871 -1.10005871 ... -1.10005871 -1.10005871\n",
            " -1.10005871]' has dtype incompatible with int64, please explicitly cast to a compatible dtype first.\n",
            "  val_df.loc[:, columns_to_scale] = scaler.transform(val_df[columns_to_scale])\n",
            "/Users/testsolutions/Documents/school/year3/term2/time-series-forecasting/tsf-repo/notebooks/../src/data_utils.py:47: FutureWarning: Setting an item of incompatible dtype is deprecated and will raise in a future error of pandas. Value '[-1.08304447 -0.93858683 -0.79412919 ...  1.37273539  1.51719303\n",
            "  1.66165067]' has dtype incompatible with int32, please explicitly cast to a compatible dtype first.\n",
            "  val_df.loc[:, columns_to_scale] = scaler.transform(val_df[columns_to_scale])\n",
            "/Users/testsolutions/Documents/school/year3/term2/time-series-forecasting/tsf-repo/notebooks/../src/data_utils.py:47: FutureWarning: Setting an item of incompatible dtype is deprecated and will raise in a future error of pandas. Value '[-1.00118975 -1.00118975 -1.00118975 ... -0.5010169  -0.5010169\n",
            " -0.5010169 ]' has dtype incompatible with int32, please explicitly cast to a compatible dtype first.\n",
            "  val_df.loc[:, columns_to_scale] = scaler.transform(val_df[columns_to_scale])\n",
            "/Users/testsolutions/Documents/school/year3/term2/time-series-forecasting/tsf-repo/notebooks/../src/data_utils.py:47: FutureWarning: Setting an item of incompatible dtype is deprecated and will raise in a future error of pandas. Value '[0.15368259 0.15368259 0.15368259 ... 1.61336486 1.61336486 1.61336486]' has dtype incompatible with int32, please explicitly cast to a compatible dtype first.\n",
            "  val_df.loc[:, columns_to_scale] = scaler.transform(val_df[columns_to_scale])\n"
          ]
        },
        {
          "name": "stdout",
          "output_type": "stream",
          "text": [
            "\u001b[1m411/411\u001b[0m \u001b[32m━━━━━━━━━━━━━━━━━━━━\u001b[0m\u001b[37m\u001b[0m \u001b[1m0s\u001b[0m 780us/step\n",
            "Saved 13148 rows to ../submissions/../submissions/02_standardscaler_lstm_submission.csv\n",
            "\n",
            "--- Submission File Head ---\n"
          ]
        },
        {
          "data": {
            "text/html": [
              "<div>\n",
              "<style scoped>\n",
              "    .dataframe tbody tr th:only-of-type {\n",
              "        vertical-align: middle;\n",
              "    }\n",
              "\n",
              "    .dataframe tbody tr th {\n",
              "        vertical-align: top;\n",
              "    }\n",
              "\n",
              "    .dataframe thead th {\n",
              "        text-align: right;\n",
              "    }\n",
              "</style>\n",
              "<table border=\"1\" class=\"dataframe\">\n",
              "  <thead>\n",
              "    <tr style=\"text-align: right;\">\n",
              "      <th></th>\n",
              "      <th>row ID</th>\n",
              "      <th>pm2.5</th>\n",
              "    </tr>\n",
              "  </thead>\n",
              "  <tbody>\n",
              "    <tr>\n",
              "      <th>0</th>\n",
              "      <td>2013-07-02 4:00:00</td>\n",
              "      <td>22.252257</td>\n",
              "    </tr>\n",
              "    <tr>\n",
              "      <th>1</th>\n",
              "      <td>2013-07-02 5:00:00</td>\n",
              "      <td>52.628262</td>\n",
              "    </tr>\n",
              "    <tr>\n",
              "      <th>2</th>\n",
              "      <td>2013-07-02 6:00:00</td>\n",
              "      <td>20.475225</td>\n",
              "    </tr>\n",
              "    <tr>\n",
              "      <th>3</th>\n",
              "      <td>2013-07-02 7:00:00</td>\n",
              "      <td>17.111936</td>\n",
              "    </tr>\n",
              "    <tr>\n",
              "      <th>4</th>\n",
              "      <td>2013-07-02 8:00:00</td>\n",
              "      <td>10.376492</td>\n",
              "    </tr>\n",
              "  </tbody>\n",
              "</table>\n",
              "</div>"
            ],
            "text/plain": [
              "               row ID      pm2.5\n",
              "0  2013-07-02 4:00:00  22.252257\n",
              "1  2013-07-02 5:00:00  52.628262\n",
              "2  2013-07-02 6:00:00  20.475225\n",
              "3  2013-07-02 7:00:00  17.111936\n",
              "4  2013-07-02 8:00:00  10.376492"
            ]
          },
          "metadata": {},
          "output_type": "display_data"
        }
      ],
      "source": [
        "LOG_PATH = f'../experiments/metrics/{EXP_ID}_{SCALER_TYPE.lower()}_{MODEL_TYPE.lower()}_log.txt'\n",
        "SUBMISSION_FILENAME = f'../submissions/{EXP_ID}_{SCALER_TYPE.lower()}_{MODEL_TYPE.lower()}_submission.csv'\n",
        "\n",
        "# Log all experiment details to a file\n",
        "log_experiment(\n",
        "    model=model, history=history, rmse=final_rmse, log_path=LOG_PATH,\n",
        "    exp_id=EXP_ID, model_type=f'{MODEL_TYPE} ({SCALER_TYPE})', sequence_length=N_PAST,\n",
        "    batch_size=BATCH_SIZE, scaler_type=SCALER_TYPE, optimizer='adam',\n",
        "    notes=\"Second experiment, switching from RobustScaler to StandardScaler.\"\n",
        ")\n",
        "\n",
        "# Generate the Kaggle submission file\n",
        "submission_df = generate_submission(\n",
        "    model_path=MODEL_PATH,\n",
        "    train_scaled=df_train_scaled,\n",
        "    scaler=scaler,\n",
        "    columns_to_scale=features_to_scale,\n",
        "    N_PAST=N_PAST,\n",
        "    TARGET_COL=TARGET_COL,\n",
        "    submission_filename=SUBMISSION_FILENAME\n",
        ")\n",
        "\n",
        "print(\"\\n--- Submission File Head ---\")\n",
        "display(submission_df.head())"
      ]
    }
  ],
  "metadata": {
    "colab": {
      "provenance": []
    },
    "kernelspec": {
      "display_name": ".venv",
      "language": "python",
      "name": "python3"
    },
    "language_info": {
      "codemirror_mode": {
        "name": "ipython",
        "version": 3
      },
      "file_extension": ".py",
      "mimetype": "text/x-python",
      "name": "python",
      "nbconvert_exporter": "python",
      "pygments_lexer": "ipython3",
      "version": "3.13.5"
    }
  },
  "nbformat": 4,
  "nbformat_minor": 0
}
